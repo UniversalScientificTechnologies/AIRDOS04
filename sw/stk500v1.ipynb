{
 "cells": [
  {
   "cell_type": "code",
   "execution_count": 127,
   "id": "ab9a5894",
   "metadata": {},
   "outputs": [],
   "source": [
    "import serial\n",
    "import time\n",
    "from intelhex import IntelHex\n",
    "from intelhex import AddressOverlapError, HexRecordError"
   ]
  },
  {
   "cell_type": "code",
   "execution_count": 129,
   "id": "29c7e011",
   "metadata": {},
   "outputs": [
    {
     "name": "stdout",
     "output_type": "stream",
     "text": [
      "/dev/ttyUSB1\n"
     ]
    }
   ],
   "source": [
    "ser = serial.Serial('/dev/ttyUSB1', baudrate=115200, bytesize=8, parity='N', stopbits=1, timeout=None, xonxoff=0, rtscts=0)\n",
    "print(ser.name)"
   ]
  },
  {
   "cell_type": "code",
   "execution_count": 58,
   "id": "fff0e8d7",
   "metadata": {},
   "outputs": [],
   "source": []
  },
  {
   "cell_type": "code",
   "execution_count": 59,
   "id": "7101c8d3",
   "metadata": {},
   "outputs": [
    {
     "data": {
      "text/plain": [
       "4"
      ]
     },
     "execution_count": 59,
     "metadata": {},
     "output_type": "execute_result"
    }
   ],
   "source": [
    "ser.write(b\"Ahoj\")"
   ]
  },
  {
   "cell_type": "code",
   "execution_count": 130,
   "id": "6a0d7a45",
   "metadata": {},
   "outputs": [],
   "source": [
    "def write(b):\n",
    "    print(\"WRITE>\", b, [hex(x) for x in b])\n",
    "    ser.write(b)"
   ]
  },
  {
   "cell_type": "code",
   "execution_count": 134,
   "id": "2e71454b",
   "metadata": {},
   "outputs": [
    {
     "name": "stdout",
     "output_type": "stream",
     "text": [
      "GET SYNC\n",
      "WRITE> b'0 ' ['0x30', '0x20']\n",
      "try 0\n",
      "REC ['0x14', '0x10'] 2\n",
      "SYNC OBTAINED\n"
     ]
    }
   ],
   "source": [
    "ser.dtr = True\n",
    "ser.rts = True\n",
    "time.sleep(1/20)\n",
    "ser.dtr = False\n",
    "ser.rts = False\n",
    "time.sleep(1/50)\n",
    "\n",
    "\n",
    "print(\"GET SYNC\")\n",
    "ser.timeout = 0.2\n",
    "ser.blocking = True\n",
    "write(b'0 ')\n",
    "ser.flush()\n",
    "for x in range(15):\n",
    "    print(\"try\", x)\n",
    "    d = ser.read(2)\n",
    "    print(\"REC\", [hex(i) for i in d], len(d))\n",
    "    if not len(d):\n",
    "        ser.write(b' ')\n",
    "        continue\n",
    "    if d == b'\\x14\\x10':\n",
    "        print(\"SYNC OBTAINED\")\n",
    "        break\n",
    "    \n",
    "time.sleep(0.1)"
   ]
  },
  {
   "cell_type": "code",
   "execution_count": 125,
   "id": "629adc58",
   "metadata": {},
   "outputs": [
    {
     "name": "stdout",
     "output_type": "stream",
     "text": [
      "CHECK BT\n",
      "WRITE> b'1 ' ['0x31', '0x20']\n",
      "RESPONSE ['0xa0', '0x8d']\n"
     ]
    }
   ],
   "source": [
    "\n",
    "ser.timeout = 1\n",
    "print(\"CHECK BT\")\n",
    "write(b'\\x31\\x20')\n",
    "d = ser.read(8)\n",
    "print(\"RESPONSE\", [hex(i) for i in d] )\n",
    "    "
   ]
  },
  {
   "cell_type": "code",
   "execution_count": 126,
   "id": "fa257547",
   "metadata": {},
   "outputs": [
    {
     "name": "stdout",
     "output_type": "stream",
     "text": [
      "SET PROGRAMMING MODE\n",
      "RESPONSE ['0xa0', '0x8d']\n"
     ]
    }
   ],
   "source": [
    "\n",
    "print(\"SET PROGRAMMING MODE\")\n",
    "ser.write(b'P ')\n",
    "d = ser.read(2)\n",
    "print(\"RESPONSE\", [hex(i) for i in d] )\n",
    "    "
   ]
  },
  {
   "cell_type": "code",
   "execution_count": 60,
   "id": "77649282",
   "metadata": {},
   "outputs": [
    {
     "name": "stdout",
     "output_type": "stream",
     "text": [
      "GET SYNC\n",
      "b''\n",
      "SET PROGRAMMING MODE\n",
      "b''\n",
      "b''\n",
      "b''\n",
      "b''\n",
      "b''\n",
      "b''\n",
      "b''\n",
      "b''\n",
      "b''\n",
      "b''\n",
      "b''\n",
      "b''\n",
      "b''\n",
      "b''\n",
      "b''\n",
      "BUFFER 0\n",
      "BUF, bytearray(b'\\x0c\\x94\\x80\\x00\\x0c\\x94\\x92\\x00\\x0c\\x94\\x92\\x00\\x0c\\x94\\x92\\x00\\x0c\\x94\\x92\\x00\\x0c\\x94\\x92\\x00\\x0c\\x94\\x92\\x00\\x0c\\x94\\x92\\x00\\x0c\\x94\\x92\\x00\\x0c\\x94\\x92\\x00\\x0c\\x94\\x92\\x00\\x0c\\x94\\x92\\x00\\x0c\\x94\\x92\\x00\\x0c\\x94\\x92\\x00\\x0c\\x94\\x92\\x00\\x0c\\x94\\x92\\x00\\x0c\\x94\\x92\\x00\\x0c\\x94\\x92\\x00\\x0c\\x94F\\x01\\x0c\\x94\\x92\\x00\\x0c\\x94\\x92\\x00\\x0c\\x94\\x92\\x00\\x0c\\x94\\x92\\x00\\x0c\\x94\\x92\\x00\\x0c\\x94\\x92\\x00\\x0c\\x94\\x92\\x00\\x0c\\x94\\x92\\x00\\x0c\\x94\\x92\\x00\\x0c\\x94\\x92\\x00\\x0c\\x94\\x92\\x00\\x0c\\x94\\x92\\x00\\x0c\\x94\\x92\\x00\\x0c\\x94\\x92\\x00\\x0c\\x94\\x92\\x00\\x0c\\x94\\x92\\x00\\x00\\x00!\\x00$\\x00\\'\\x00*\\x00\\x00\\x00\"\\x00%\\x00(\\x00+\\x00\\x02\\x02\\x02\\x02\\x02\\x02\\x02\\x02\\x04\\x04\\x04\\x04\\x04\\x04\\x04\\x04\\x03\\x03\\x03\\x03\\x03\\x03\\x03\\x03\\x01\\x01\\x01\\x01\\x01\\x01\\x01\\x01\\x01\\x02\\x04\\x08\\x10 @\\x80\\x01\\x02\\x04\\x08\\x10 @\\x80\\x01\\x02\\x04\\x08\\x10 @\\x80\\x01\\x02\\x04\\x08\\x10 @\\x80\\x00\\x00\\x00\\x02\\x03\\x00\\n\\x0b\\x00\\x00\\x00\\x00\\x05\\x04\\t\\x08\\x00\\x00\\x00\\x00\\x00\\x00\\x00\\x00\\x00\\x00\\x00\\x00\\x00\\x00\\x00\\x00')\n",
      "PRIKAZ bytearray(b'd\\x01\\x00F\\x0c\\x94\\x80\\x00\\x0c\\x94\\x92\\x00\\x0c\\x94\\x92\\x00\\x0c\\x94\\x92\\x00\\x0c\\x94\\x92\\x00\\x0c\\x94\\x92\\x00\\x0c\\x94\\x92\\x00\\x0c\\x94\\x92\\x00\\x0c\\x94\\x92\\x00\\x0c\\x94\\x92\\x00\\x0c\\x94\\x92\\x00\\x0c\\x94\\x92\\x00\\x0c\\x94\\x92\\x00\\x0c\\x94\\x92\\x00\\x0c\\x94\\x92\\x00\\x0c\\x94\\x92\\x00\\x0c\\x94\\x92\\x00\\x0c\\x94\\x92\\x00\\x0c\\x94F\\x01\\x0c\\x94\\x92\\x00\\x0c\\x94\\x92\\x00\\x0c\\x94\\x92\\x00\\x0c\\x94\\x92\\x00\\x0c\\x94\\x92\\x00\\x0c\\x94\\x92\\x00\\x0c\\x94\\x92\\x00\\x0c\\x94\\x92\\x00\\x0c\\x94\\x92\\x00\\x0c\\x94\\x92\\x00\\x0c\\x94\\x92\\x00\\x0c\\x94\\x92\\x00\\x0c\\x94\\x92\\x00\\x0c\\x94\\x92\\x00\\x0c\\x94\\x92\\x00\\x0c\\x94\\x92\\x00\\x00\\x00!\\x00$\\x00\\'\\x00*\\x00\\x00\\x00\"\\x00%\\x00(\\x00+\\x00\\x02\\x02\\x02\\x02\\x02\\x02\\x02\\x02\\x04\\x04\\x04\\x04\\x04\\x04\\x04\\x04\\x03\\x03\\x03\\x03\\x03\\x03\\x03\\x03\\x01\\x01\\x01\\x01\\x01\\x01\\x01\\x01\\x01\\x02\\x04\\x08\\x10 @\\x80\\x01\\x02\\x04\\x08\\x10 @\\x80\\x01\\x02\\x04\\x08\\x10 @\\x80\\x01\\x02\\x04\\x08\\x10 @\\x80\\x00\\x00\\x00\\x02\\x03\\x00\\n\\x0b\\x00\\x00\\x00\\x00\\x05\\x04\\t\\x08\\x00\\x00\\x00\\x00\\x00\\x00\\x00\\x00\\x00\\x00\\x00\\x00\\x00\\x00\\x00\\x00 ')\n",
      "b''\n",
      "b''\n",
      "b''\n",
      "b''\n",
      "b''\n",
      "b''\n",
      "b''\n",
      "b''\n",
      "b''\n",
      "b''\n",
      "b''\n",
      "b''\n",
      "b''\n",
      "b''\n"
     ]
    },
    {
     "ename": "KeyboardInterrupt",
     "evalue": "",
     "output_type": "error",
     "traceback": [
      "\u001b[0;31m---------------------------------------------------------------------------\u001b[0m",
      "\u001b[0;31mKeyboardInterrupt\u001b[0m                         Traceback (most recent call last)",
      "\u001b[0;32m/tmp/ipykernel_36178/1486948800.py\u001b[0m in \u001b[0;36m<module>\u001b[0;34m\u001b[0m\n\u001b[1;32m     61\u001b[0m \u001b[0;34m\u001b[0m\u001b[0m\n\u001b[1;32m     62\u001b[0m     \u001b[0;32mfor\u001b[0m \u001b[0mx\u001b[0m \u001b[0;32min\u001b[0m \u001b[0mrange\u001b[0m\u001b[0;34m(\u001b[0m\u001b[0;36m15\u001b[0m\u001b[0;34m)\u001b[0m\u001b[0;34m:\u001b[0m\u001b[0;34m\u001b[0m\u001b[0;34m\u001b[0m\u001b[0m\n\u001b[0;32m---> 63\u001b[0;31m         \u001b[0md\u001b[0m \u001b[0;34m=\u001b[0m \u001b[0mser\u001b[0m\u001b[0;34m.\u001b[0m\u001b[0mread\u001b[0m\u001b[0;34m(\u001b[0m\u001b[0;36m2\u001b[0m\u001b[0;34m)\u001b[0m\u001b[0;34m\u001b[0m\u001b[0;34m\u001b[0m\u001b[0m\n\u001b[0m\u001b[1;32m     64\u001b[0m         \u001b[0mprint\u001b[0m\u001b[0;34m(\u001b[0m\u001b[0md\u001b[0m\u001b[0;34m)\u001b[0m\u001b[0;34m\u001b[0m\u001b[0;34m\u001b[0m\u001b[0m\n\u001b[1;32m     65\u001b[0m         \u001b[0;32mif\u001b[0m \u001b[0mlen\u001b[0m\u001b[0;34m(\u001b[0m\u001b[0md\u001b[0m\u001b[0;34m)\u001b[0m\u001b[0;34m:\u001b[0m \u001b[0;32mbreak\u001b[0m\u001b[0;34m\u001b[0m\u001b[0;34m\u001b[0m\u001b[0m\n",
      "\u001b[0;32m~/.local/lib/python3.10/site-packages/serial/serialposix.py\u001b[0m in \u001b[0;36mread\u001b[0;34m(self, size)\u001b[0m\n\u001b[1;32m    563\u001b[0m         \u001b[0;32mwhile\u001b[0m \u001b[0mlen\u001b[0m\u001b[0;34m(\u001b[0m\u001b[0mread\u001b[0m\u001b[0;34m)\u001b[0m \u001b[0;34m<\u001b[0m \u001b[0msize\u001b[0m\u001b[0;34m:\u001b[0m\u001b[0;34m\u001b[0m\u001b[0;34m\u001b[0m\u001b[0m\n\u001b[1;32m    564\u001b[0m             \u001b[0;32mtry\u001b[0m\u001b[0;34m:\u001b[0m\u001b[0;34m\u001b[0m\u001b[0;34m\u001b[0m\u001b[0m\n\u001b[0;32m--> 565\u001b[0;31m                 \u001b[0mready\u001b[0m\u001b[0;34m,\u001b[0m \u001b[0m_\u001b[0m\u001b[0;34m,\u001b[0m \u001b[0m_\u001b[0m \u001b[0;34m=\u001b[0m \u001b[0mselect\u001b[0m\u001b[0;34m.\u001b[0m\u001b[0mselect\u001b[0m\u001b[0;34m(\u001b[0m\u001b[0;34m[\u001b[0m\u001b[0mself\u001b[0m\u001b[0;34m.\u001b[0m\u001b[0mfd\u001b[0m\u001b[0;34m,\u001b[0m \u001b[0mself\u001b[0m\u001b[0;34m.\u001b[0m\u001b[0mpipe_abort_read_r\u001b[0m\u001b[0;34m]\u001b[0m\u001b[0;34m,\u001b[0m \u001b[0;34m[\u001b[0m\u001b[0;34m]\u001b[0m\u001b[0;34m,\u001b[0m \u001b[0;34m[\u001b[0m\u001b[0;34m]\u001b[0m\u001b[0;34m,\u001b[0m \u001b[0mtimeout\u001b[0m\u001b[0;34m.\u001b[0m\u001b[0mtime_left\u001b[0m\u001b[0;34m(\u001b[0m\u001b[0;34m)\u001b[0m\u001b[0;34m)\u001b[0m\u001b[0;34m\u001b[0m\u001b[0;34m\u001b[0m\u001b[0m\n\u001b[0m\u001b[1;32m    566\u001b[0m                 \u001b[0;32mif\u001b[0m \u001b[0mself\u001b[0m\u001b[0;34m.\u001b[0m\u001b[0mpipe_abort_read_r\u001b[0m \u001b[0;32min\u001b[0m \u001b[0mready\u001b[0m\u001b[0;34m:\u001b[0m\u001b[0;34m\u001b[0m\u001b[0;34m\u001b[0m\u001b[0m\n\u001b[1;32m    567\u001b[0m                     \u001b[0mos\u001b[0m\u001b[0;34m.\u001b[0m\u001b[0mread\u001b[0m\u001b[0;34m(\u001b[0m\u001b[0mself\u001b[0m\u001b[0;34m.\u001b[0m\u001b[0mpipe_abort_read_r\u001b[0m\u001b[0;34m,\u001b[0m \u001b[0;36m1000\u001b[0m\u001b[0;34m)\u001b[0m\u001b[0;34m\u001b[0m\u001b[0;34m\u001b[0m\u001b[0m\n",
      "\u001b[0;31mKeyboardInterrupt\u001b[0m: "
     ]
    }
   ],
   "source": [
    "\n",
    "    \n",
    "# print(\"GET PARAM\")\n",
    "# ser.write(b'A\\x80 ')\n",
    "# for x in range(15):\n",
    "#     d = ser.read(2)\n",
    "#     print(d)\n",
    "#     if len(d): break\n",
    "#     ser.write(b' ')\n",
    "    \n",
    "    \n",
    "    \n",
    "ih = IntelHex()\n",
    "ih.fromfile('/tmp/arduino/sketches/7115AB02B25FC6E7C7762E92029F1EF6/Blink.ino.hex', format='hex')\n",
    "page = 256\n",
    "#page = 2\n",
    "\n",
    "for address in range(0, ih.maxaddr(), page):\n",
    "    print(\"BUFFER\", address)\n",
    "    buffer = bytearray(ih.tobinarray(start=address, size=page))\n",
    "    print(\"BUF,\", buffer)\n",
    "    buff_len = len(buffer)\n",
    "    cmd = bytearray(4)\n",
    "    cmd[0] = ord('d')\n",
    "    cmd[1] = ((buff_len >> 8) & 0xFF)\n",
    "    cmd[2] = (buff_len & 0xFF)\n",
    "    cmd[3] = ord('F')\n",
    "\n",
    "    cmd.extend(buffer)\n",
    "    cmd.append(ord(' '))\n",
    "    \n",
    "    print(\"PRIKAZ\", cmd)\n",
    "    ser.write(cmd)\n",
    "    \n",
    "    for x in range(15):\n",
    "        d = ser.read(2)\n",
    "        print(d)\n",
    "        if len(d): break\n",
    "# for address in range(0, ih.maxaddr(), page):\n",
    "#     buffer = ih.tobinarray(start=address, size=page)\n",
    "#     buffer = bytearray(buffer)\n",
    "#     payload = bytearray(b'\\x60') + buffer + bytearray(b' ')\n",
    "#     print(\"Offset\",address,\"Payload\", payload)\n",
    "#     ser.write(payload)\n",
    "#     # time.sleep(0.01)\n",
    "\n",
    "#     for x in range(15):\n",
    "#         d = ser.read(2)\n",
    "#         print(d)\n",
    "#         if len(d): break\n",
    "#         ser.write(b' ')"
   ]
  },
  {
   "cell_type": "code",
   "execution_count": null,
   "id": "5526cc63",
   "metadata": {},
   "outputs": [],
   "source": []
  },
  {
   "cell_type": "code",
   "execution_count": null,
   "id": "7f4abeba",
   "metadata": {},
   "outputs": [],
   "source": []
  }
 ],
 "metadata": {
  "kernelspec": {
   "display_name": "Python 3 (ipykernel)",
   "language": "python",
   "name": "python3"
  },
  "language_info": {
   "codemirror_mode": {
    "name": "ipython",
    "version": 3
   },
   "file_extension": ".py",
   "mimetype": "text/x-python",
   "name": "python",
   "nbconvert_exporter": "python",
   "pygments_lexer": "ipython3",
   "version": "3.10.12"
  }
 },
 "nbformat": 4,
 "nbformat_minor": 5
}
