{
 "cells": [
  {
   "cell_type": "code",
   "execution_count": null,
   "id": "a05de419",
   "metadata": {},
   "outputs": [],
   "source": [
    "import smbus2\n",
    "import time\n",
    "from IPython.display import clear_output"
   ]
  },
  {
   "cell_type": "code",
   "execution_count": null,
   "id": "67018dc0",
   "metadata": {},
   "outputs": [],
   "source": [
    "addr_switch = 0x70\n",
    "addr_switch = 0x7c\n",
    "addr_charger = 0x6a\n",
    "addr_rtc = 0x51"
   ]
  },
  {
   "cell_type": "code",
   "execution_count": null,
   "id": "f3477974",
   "metadata": {},
   "outputs": [],
   "source": [
    "c.close()"
   ]
  },
  {
   "cell_type": "code",
   "execution_count": null,
   "id": "68cd9765",
   "metadata": {},
   "outputs": [],
   "source": [
    "def read_2(c, addr, reg):\n",
    "    d = c.read_i2c_block_data(addr, reg, 2)\n",
    "    #print([bin(x) for x in d])\n",
    "\n",
    "    d = d[0]| d[1] << 8\n",
    "    #print(bin(d))\n",
    "    return d\n",
    "\n",
    "def crop(number, start=0, end=16):\n",
    "    # Vytvoření masky s jedničkami na pozicích od start do end\n",
    "    mask = ((1 << (end - start + 1)) - 1) << start\n",
    "    \n",
    "    # Použití masky pro vybrání příslušných bitů\n",
    "    result = (number & mask) >> start\n",
    "    \n",
    "    return result\n",
    "\n",
    "def comp(data, length=16):\n",
    "\n",
    "    if data & (1 << (length-1)):\n",
    "        data = data ^ ((1 << length) - 1)\n",
    "        data = -(data + 1)\n",
    "\n",
    "    return data\n",
    "\n"
   ]
  },
  {
   "cell_type": "code",
   "execution_count": null,
   "id": "fc382b92",
   "metadata": {},
   "outputs": [],
   "source": [
    "bin(crop(0b00101100, 2, 6))"
   ]
  },
  {
   "cell_type": "code",
   "execution_count": null,
   "id": "4091a2b6",
   "metadata": {},
   "outputs": [],
   "source": [
    "def con():\n",
    "    return smbus2.SMBus(19)\n",
    "\n",
    "c = con()"
   ]
  },
  {
   "cell_type": "markdown",
   "id": "4ff965a1",
   "metadata": {},
   "source": [
    "# I2C switch, switch internal I2C bus into USB (FT260) IO"
   ]
  },
  {
   "cell_type": "code",
   "execution_count": null,
   "id": "66c56eee",
   "metadata": {},
   "outputs": [],
   "source": [
    "c=con()"
   ]
  },
  {
   "cell_type": "code",
   "execution_count": null,
   "id": "b9859ddc",
   "metadata": {},
   "outputs": [],
   "source": [
    "c.write_byte_data(addr_switch, 0x01, 0x03) # nastavit I2C switch do USB"
   ]
  },
  {
   "cell_type": "code",
   "execution_count": null,
   "id": "0d9a4626",
   "metadata": {},
   "outputs": [],
   "source": [
    "hex(c.read_byte(addr_switch, 0x01))"
   ]
  },
  {
   "cell_type": "markdown",
   "id": "06f7f904",
   "metadata": {},
   "source": [
    "# Nabíječka "
   ]
  },
  {
   "cell_type": "code",
   "execution_count": null,
   "id": "94204b65",
   "metadata": {},
   "outputs": [],
   "source": [
    "# Vypnout bateriovy modul\n",
    "c.write_byte_data(addr_charger, 0x18, 0x0a)"
   ]
  },
  {
   "cell_type": "code",
   "execution_count": null,
   "id": "c978f6b8",
   "metadata": {},
   "outputs": [],
   "source": [
    "print(bin(c.read_byte_data(addr_charger, 0x16)))\n",
    "\n",
    "\n",
    "charge_current_ma = 800\n",
    "\n",
    "c.write_byte_data(addr_charger, 0x02, int(charge_current_ma/40)<<5)\n",
    "c.write_byte_data(addr_charger, 0x14, 0b00100010)\n",
    "c.write_byte_data(addr_charger, 0x15, 0b00011101)\n",
    "c.write_byte_data(addr_charger, 0x16, 0b10100000)\n",
    "c.write_byte_data(addr_charger, 0x17, 0b01010110)\n",
    "c.write_byte_data(addr_charger, 0x18, 0b00000000)\n",
    "c.write_byte_data(addr_charger, 0x19, 0b00000001)\n",
    "\n",
    "\n",
    "# NTC\n",
    "c.write_byte_data(addr_charger, 0x1a, 0b10111111)\n",
    "\n",
    "# ADC\n",
    "c.write_byte_data(addr_charger, 0x26, 0b10001100)"
   ]
  },
  {
   "cell_type": "code",
   "execution_count": null,
   "id": "141c4fde",
   "metadata": {},
   "outputs": [],
   "source": [
    "\n",
    "while True:\n",
    "    # Zapnout interni ADC prevodnik\n",
    "    #print(bin(c.read_byte_data(addr_charger, 0x26)))\n",
    "    #c.write_byte_data(addr_charger, 0x26, 0b10001100)\n",
    "    \n",
    "    clear_output()\n",
    "    print(\"IBUS ADC\", comp(crop(read_2(c, addr_charger, 0x28), 1, 16), 15) * 2, \" mA\")\n",
    "    #print(\" \")\n",
    "\n",
    "    print(\"IBAT ADC\", comp(crop(read_2(c, addr_charger, 0x2A), 2, 16), 14) * 4, \" mA\")\n",
    "    #print(\" \")\n",
    "\n",
    "    print(\"VBUS ADC\", crop(read_2(c, addr_charger, 0x2C), 2, 15) * 3.97, \" mV\")\n",
    "    #print(\" \")\n",
    "\n",
    "    print(\"VPMID ADC\", crop(read_2(c, addr_charger, 0x2E), 2, 15) * 3.97, \" mV\")\n",
    "    #print(\" \")\n",
    "\n",
    "    print(\"VBAT ADC\", crop(read_2(c, addr_charger, 0x30), 1, 13) * 1.99, \" mV\")\n",
    "    #print(\" \")\n",
    "\n",
    "    print(\"VSYS ADC\", crop(read_2(c, addr_charger, 0x32), 1, 13) * 1.99, \" mV\")\n",
    "    #print(\" \")\n",
    "\n",
    "    print(\"TS ADC\", crop(read_2(c, addr_charger, 0x34), 0, 12) * 0.0961, \" %\")\n",
    "    #print(\" \")\n",
    "\n",
    "    print(\"TDIE ADC\", crop(read_2(c, addr_charger, 0x36), 0, 12) * 0.5 - 40, \" C\")\n",
    "    #print(\" \")\n",
    "\n",
    "    time.sleep(1)\n"
   ]
  },
  {
   "cell_type": "code",
   "execution_count": null,
   "id": "d849865c",
   "metadata": {},
   "outputs": [],
   "source": [
    "# Nastavit timery\n",
    "c.write_byte_data(addr_charger, 0x15, 0b00001001)"
   ]
  },
  {
   "cell_type": "code",
   "execution_count": null,
   "id": "91fa59fd",
   "metadata": {},
   "outputs": [],
   "source": [
    "d = c.read_byte_data(addr_charger, 0x1d)\n",
    "print(\"Charger status 0: 0b{0:08b}\".format(d))\n",
    "\n",
    "d = c.read_byte_data(addr_charger, 0x1e)\n",
    "print(\"Charger status 1: 0b{0:08b}\".format(d))\n",
    "\n",
    "d = c.read_byte_data(addr_charger, 0x1f)\n",
    "print(\"Fault reg 0: 0b{0:08b}\".format(d))\n",
    "\n",
    "d = c.read_byte_data(addr_charger, 0x20)\n",
    "print(\"Charger flag 0: 0b{0:08b}\".format(d))\n",
    "\n",
    "d = c.read_byte_data(addr_charger, 0x21)\n",
    "print(\"Charger flag 1: 0b{0:08b}\".format(d))\n",
    "\n",
    "d = c.read_byte_data(addr_charger, 0x22)\n",
    "print(\"Fault flag 0: 0b{0:08b}\".format(d))"
   ]
  },
  {
   "cell_type": "code",
   "execution_count": null,
   "id": "8580c42e",
   "metadata": {},
   "outputs": [],
   "source": []
  },
  {
   "cell_type": "code",
   "execution_count": null,
   "id": "835da5aa",
   "metadata": {},
   "outputs": [],
   "source": []
  },
  {
   "cell_type": "code",
   "execution_count": null,
   "id": "5e451cba",
   "metadata": {},
   "outputs": [],
   "source": []
  },
  {
   "cell_type": "code",
   "execution_count": null,
   "id": "ef9248cd",
   "metadata": {},
   "outputs": [],
   "source": []
  },
  {
   "cell_type": "code",
   "execution_count": null,
   "id": "0088a1e4",
   "metadata": {},
   "outputs": [],
   "source": []
  },
  {
   "cell_type": "markdown",
   "id": "afda1db9",
   "metadata": {},
   "source": [
    "\n",
    "# RTC"
   ]
  },
  {
   "cell_type": "code",
   "execution_count": null,
   "id": "0de4da18",
   "metadata": {},
   "outputs": [],
   "source": [
    "import datetime"
   ]
  },
  {
   "cell_type": "code",
   "execution_count": null,
   "id": "dbabf018",
   "metadata": {},
   "outputs": [],
   "source": [
    "def get_time():\n",
    "    r01 = c.read_byte_data(addr_rtc, 0x01)\n",
    "    r02 = c.read_byte_data(addr_rtc, 0x02)\n",
    "    r03 = c.read_byte_data(addr_rtc, 0x03)\n",
    "    r04 = c.read_byte_data(addr_rtc, 0x04)\n",
    "    r06 = c.read_byte_data(addr_rtc, 0x06)\n",
    "    r07 = c.read_byte_data(addr_rtc, 0x07)\n",
    "\n",
    "    sec = ((r01 >> 4) & 0b111) * 10 + (r01 & 0b1111)\n",
    "    minu= ((r02 >> 4) & 0b111) * 10 + (r02 & 0b1111)\n",
    "    hour= ((r03 >> 4) & 0b11) * 10 + (r03 & 0b1111)\n",
    "    day = ((r04 >> 4) & 0b11) * 10 + (r04 & 0b1111)\n",
    "    mon = ((r06 >> 4) & 0b1) * 10 + (r06 & 0b1111)\n",
    "    year= ((r07 >> 4) & 0b1111) * 10 + (r07 & 0b1111)+2000\n",
    "        \n",
    "    return datetime.datetime(year, mon, day, hour, minu, sec)\n",
    "    \n",
    "def set_time(time):\n",
    "    c.write_byte_data(addr_rtc, 0x01, (time.second % 10) | int(time.second/10)<<4 )\n",
    "    c.write_byte_data(addr_rtc, 0x02, (time.minute % 10) | int(time.minute/10)<<4 )\n",
    "    c.write_byte_data(addr_rtc, 0x03, (time.hour % 10) | int(time.hour/10)<<4 )\n",
    "    c.write_byte_data(addr_rtc, 0x04, (time.day % 10) | int(time.day/10)<<4 )\n",
    "    c.write_byte_data(addr_rtc, 0x06, (time.month % 10) | int(time.month/10)<<4 )\n",
    "    c.write_byte_data(addr_rtc, 0x07, ((time.year-2000) % 10) | int((time.year-2000)/10)<<4 )"
   ]
  },
  {
   "cell_type": "code",
   "execution_count": null,
   "id": "ec6c840e",
   "metadata": {},
   "outputs": [],
   "source": [
    "actual_time = datetime.datetime.utcnow()\n",
    "detector_time = get_time()\n",
    "print(\"Actual time\", actual_time)\n",
    "print(\"Detector time\", detector_time)\n",
    "print(\"Difference\", detector_time-actual_time)"
   ]
  },
  {
   "cell_type": "code",
   "execution_count": null,
   "id": "9d8f7972",
   "metadata": {},
   "outputs": [],
   "source": [
    "actual_time = datetime.datetime.utcnow()\n",
    "set_time(actual_time)"
   ]
  },
  {
   "cell_type": "code",
   "execution_count": null,
   "id": "dca252ce",
   "metadata": {},
   "outputs": [],
   "source": [
    "actual_time.second"
   ]
  },
  {
   "cell_type": "code",
   "execution_count": null,
   "id": "538fa64d",
   "metadata": {},
   "outputs": [],
   "source": [
    "\n",
    "time = actual_time"
   ]
  },
  {
   "cell_type": "code",
   "execution_count": null,
   "id": "d5b7562f",
   "metadata": {},
   "outputs": [],
   "source": [
    "bin( (time.second % 10)<<4)"
   ]
  },
  {
   "cell_type": "code",
   "execution_count": null,
   "id": "3dcd2e50",
   "metadata": {},
   "outputs": [],
   "source": []
  }
 ],
 "metadata": {
  "kernelspec": {
   "display_name": "Python 3 (ipykernel)",
   "language": "python",
   "name": "python3"
  },
  "language_info": {
   "codemirror_mode": {
    "name": "ipython",
    "version": 3
   },
   "file_extension": ".py",
   "mimetype": "text/x-python",
   "name": "python",
   "nbconvert_exporter": "python",
   "pygments_lexer": "ipython3",
   "version": "3.10.12"
  }
 },
 "nbformat": 4,
 "nbformat_minor": 5
}
