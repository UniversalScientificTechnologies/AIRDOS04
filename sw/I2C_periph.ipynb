{
 "cells": [
  {
   "cell_type": "code",
   "execution_count": 2,
   "id": "a05de419",
   "metadata": {},
   "outputs": [],
   "source": [
    "import smbus2\n",
    "import time\n",
    "from IPython.display import clear_output"
   ]
  },
  {
   "cell_type": "code",
   "execution_count": 3,
   "id": "67018dc0",
   "metadata": {},
   "outputs": [],
   "source": [
    "addr_switch = 0x70\n",
    "addr_switch = 0x7c\n",
    "addr_charger = 0x6a\n",
    "addr_gauge = 0x55\n",
    "addr_rtc = 0x51\n",
    "addr_eeprom = 0x50\n",
    "addr_eepromsn = 0x58"
   ]
  },
  {
   "cell_type": "code",
   "execution_count": 4,
   "id": "f3477974",
   "metadata": {},
   "outputs": [
    {
     "ename": "NameError",
     "evalue": "name 'c' is not defined",
     "output_type": "error",
     "traceback": [
      "\u001b[0;31m---------------------------------------------------------------------------\u001b[0m",
      "\u001b[0;31mNameError\u001b[0m                                 Traceback (most recent call last)",
      "\u001b[0;32m/tmp/ipykernel_7765/2320913406.py\u001b[0m in \u001b[0;36m<module>\u001b[0;34m\u001b[0m\n\u001b[0;32m----> 1\u001b[0;31m \u001b[0mc\u001b[0m\u001b[0;34m.\u001b[0m\u001b[0mclose\u001b[0m\u001b[0;34m(\u001b[0m\u001b[0;34m)\u001b[0m\u001b[0;34m\u001b[0m\u001b[0;34m\u001b[0m\u001b[0m\n\u001b[0m",
      "\u001b[0;31mNameError\u001b[0m: name 'c' is not defined"
     ]
    }
   ],
   "source": [
    "c.close()"
   ]
  },
  {
   "cell_type": "code",
   "execution_count": 5,
   "id": "68cd9765",
   "metadata": {},
   "outputs": [],
   "source": [
    "def read_2(c, addr, reg):\n",
    "    d = c.read_i2c_block_data(addr, reg, 2)\n",
    "    #print([bin(x) for x in d])\n",
    "\n",
    "    d = d[0]| d[1] << 8\n",
    "    #print(bin(d))\n",
    "    return d\n",
    "\n",
    "def crop(number, start=0, end=16):\n",
    "    # Vytvoření masky s jedničkami na pozicích od start do end\n",
    "    mask = ((1 << (end - start + 1)) - 1) << start\n",
    "    \n",
    "    # Použití masky pro vybrání příslušných bitů\n",
    "    result = (number & mask) >> start\n",
    "    \n",
    "    return result\n",
    "\n",
    "def comp(data, length=16):\n",
    "\n",
    "    if data & (1 << (length-1)):\n",
    "        data = data ^ ((1 << length) - 1)\n",
    "        data = -(data + 1)\n",
    "\n",
    "    return data\n",
    "\n"
   ]
  },
  {
   "cell_type": "code",
   "execution_count": 6,
   "id": "fc382b92",
   "metadata": {},
   "outputs": [
    {
     "data": {
      "text/plain": [
       "'0b1011'"
      ]
     },
     "execution_count": 6,
     "metadata": {},
     "output_type": "execute_result"
    }
   ],
   "source": [
    "bin(crop(0b00101100, 2, 6))"
   ]
  },
  {
   "cell_type": "code",
   "execution_count": 8,
   "id": "4091a2b6",
   "metadata": {},
   "outputs": [],
   "source": [
    "def con():\n",
    "    return smbus2.SMBus(18)\n",
    "\n",
    "c = con()"
   ]
  },
  {
   "cell_type": "markdown",
   "id": "4ff965a1",
   "metadata": {},
   "source": [
    "# I2C switch, switch internal I2C bus into USB (FT260) IO"
   ]
  },
  {
   "cell_type": "code",
   "execution_count": 9,
   "id": "66c56eee",
   "metadata": {},
   "outputs": [],
   "source": [
    "c=con()"
   ]
  },
  {
   "cell_type": "code",
   "execution_count": 10,
   "id": "b9859ddc",
   "metadata": {},
   "outputs": [
    {
     "ename": "OSError",
     "evalue": "[Errno 5] Input/output error",
     "output_type": "error",
     "traceback": [
      "\u001b[0;31m---------------------------------------------------------------------------\u001b[0m",
      "\u001b[0;31mOSError\u001b[0m                                   Traceback (most recent call last)",
      "\u001b[0;32m/tmp/ipykernel_7765/688941281.py\u001b[0m in \u001b[0;36m<module>\u001b[0;34m\u001b[0m\n\u001b[0;32m----> 1\u001b[0;31m \u001b[0mc\u001b[0m\u001b[0;34m.\u001b[0m\u001b[0mwrite_byte_data\u001b[0m\u001b[0;34m(\u001b[0m\u001b[0maddr_switch\u001b[0m\u001b[0;34m,\u001b[0m \u001b[0;36m0x01\u001b[0m\u001b[0;34m,\u001b[0m \u001b[0;36m0x03\u001b[0m\u001b[0;34m)\u001b[0m \u001b[0;31m# nastavit I2C switch do USB\u001b[0m\u001b[0;34m\u001b[0m\u001b[0;34m\u001b[0m\u001b[0m\n\u001b[0m",
      "\u001b[0;32m/usr/local/lib/python3.10/dist-packages/smbus2/smbus2.py\u001b[0m in \u001b[0;36mwrite_byte_data\u001b[0;34m(self, i2c_addr, register, value, force)\u001b[0m\n\u001b[1;32m    453\u001b[0m         )\n\u001b[1;32m    454\u001b[0m         \u001b[0mmsg\u001b[0m\u001b[0;34m.\u001b[0m\u001b[0mdata\u001b[0m\u001b[0;34m.\u001b[0m\u001b[0mcontents\u001b[0m\u001b[0;34m.\u001b[0m\u001b[0mbyte\u001b[0m \u001b[0;34m=\u001b[0m \u001b[0mvalue\u001b[0m\u001b[0;34m\u001b[0m\u001b[0;34m\u001b[0m\u001b[0m\n\u001b[0;32m--> 455\u001b[0;31m         \u001b[0mioctl\u001b[0m\u001b[0;34m(\u001b[0m\u001b[0mself\u001b[0m\u001b[0;34m.\u001b[0m\u001b[0mfd\u001b[0m\u001b[0;34m,\u001b[0m \u001b[0mI2C_SMBUS\u001b[0m\u001b[0;34m,\u001b[0m \u001b[0mmsg\u001b[0m\u001b[0;34m)\u001b[0m\u001b[0;34m\u001b[0m\u001b[0;34m\u001b[0m\u001b[0m\n\u001b[0m\u001b[1;32m    456\u001b[0m \u001b[0;34m\u001b[0m\u001b[0m\n\u001b[1;32m    457\u001b[0m     \u001b[0;32mdef\u001b[0m \u001b[0mread_word_data\u001b[0m\u001b[0;34m(\u001b[0m\u001b[0mself\u001b[0m\u001b[0;34m,\u001b[0m \u001b[0mi2c_addr\u001b[0m\u001b[0;34m,\u001b[0m \u001b[0mregister\u001b[0m\u001b[0;34m,\u001b[0m \u001b[0mforce\u001b[0m\u001b[0;34m=\u001b[0m\u001b[0;32mNone\u001b[0m\u001b[0;34m)\u001b[0m\u001b[0;34m:\u001b[0m\u001b[0;34m\u001b[0m\u001b[0;34m\u001b[0m\u001b[0m\n",
      "\u001b[0;31mOSError\u001b[0m: [Errno 5] Input/output error"
     ]
    }
   ],
   "source": [
    "c.write_byte_data(addr_switch, 0x01, 0x03) # nastavit I2C switch do USB"
   ]
  },
  {
   "cell_type": "code",
   "execution_count": 11,
   "id": "0d9a4626",
   "metadata": {},
   "outputs": [
    {
     "ename": "OSError",
     "evalue": "[Errno 5] Input/output error",
     "output_type": "error",
     "traceback": [
      "\u001b[0;31m---------------------------------------------------------------------------\u001b[0m",
      "\u001b[0;31mOSError\u001b[0m                                   Traceback (most recent call last)",
      "\u001b[0;32m/tmp/ipykernel_7765/3387960511.py\u001b[0m in \u001b[0;36m<module>\u001b[0;34m\u001b[0m\n\u001b[0;32m----> 1\u001b[0;31m \u001b[0mhex\u001b[0m\u001b[0;34m(\u001b[0m\u001b[0mc\u001b[0m\u001b[0;34m.\u001b[0m\u001b[0mread_byte\u001b[0m\u001b[0;34m(\u001b[0m\u001b[0maddr_switch\u001b[0m\u001b[0;34m,\u001b[0m \u001b[0;36m0x01\u001b[0m\u001b[0;34m)\u001b[0m\u001b[0;34m)\u001b[0m\u001b[0;34m\u001b[0m\u001b[0;34m\u001b[0m\u001b[0m\n\u001b[0m",
      "\u001b[0;32m/usr/local/lib/python3.10/dist-packages/smbus2/smbus2.py\u001b[0m in \u001b[0;36mread_byte\u001b[0;34m(self, i2c_addr, force)\u001b[0m\n\u001b[1;32m    394\u001b[0m             \u001b[0mread_write\u001b[0m\u001b[0;34m=\u001b[0m\u001b[0mI2C_SMBUS_READ\u001b[0m\u001b[0;34m,\u001b[0m \u001b[0mcommand\u001b[0m\u001b[0;34m=\u001b[0m\u001b[0;36m0\u001b[0m\u001b[0;34m,\u001b[0m \u001b[0msize\u001b[0m\u001b[0;34m=\u001b[0m\u001b[0mI2C_SMBUS_BYTE\u001b[0m\u001b[0;34m\u001b[0m\u001b[0;34m\u001b[0m\u001b[0m\n\u001b[1;32m    395\u001b[0m         )\n\u001b[0;32m--> 396\u001b[0;31m         \u001b[0mioctl\u001b[0m\u001b[0;34m(\u001b[0m\u001b[0mself\u001b[0m\u001b[0;34m.\u001b[0m\u001b[0mfd\u001b[0m\u001b[0;34m,\u001b[0m \u001b[0mI2C_SMBUS\u001b[0m\u001b[0;34m,\u001b[0m \u001b[0mmsg\u001b[0m\u001b[0;34m)\u001b[0m\u001b[0;34m\u001b[0m\u001b[0;34m\u001b[0m\u001b[0m\n\u001b[0m\u001b[1;32m    397\u001b[0m         \u001b[0;32mreturn\u001b[0m \u001b[0mmsg\u001b[0m\u001b[0;34m.\u001b[0m\u001b[0mdata\u001b[0m\u001b[0;34m.\u001b[0m\u001b[0mcontents\u001b[0m\u001b[0;34m.\u001b[0m\u001b[0mbyte\u001b[0m\u001b[0;34m\u001b[0m\u001b[0;34m\u001b[0m\u001b[0m\n\u001b[1;32m    398\u001b[0m \u001b[0;34m\u001b[0m\u001b[0m\n",
      "\u001b[0;31mOSError\u001b[0m: [Errno 5] Input/output error"
     ]
    }
   ],
   "source": [
    "hex(c.read_byte(addr_switch, 0x01))"
   ]
  },
  {
   "cell_type": "markdown",
   "id": "06f7f904",
   "metadata": {},
   "source": [
    "# Nabíječka "
   ]
  },
  {
   "cell_type": "code",
   "execution_count": 12,
   "id": "94204b65",
   "metadata": {},
   "outputs": [],
   "source": [
    "# Vypnout bateriovy modul\n",
    "c.write_byte_data(addr_charger, 0x18, 0x0a)"
   ]
  },
  {
   "cell_type": "code",
   "execution_count": 13,
   "id": "c978f6b8",
   "metadata": {},
   "outputs": [
    {
     "name": "stdout",
     "output_type": "stream",
     "text": [
      "0b10100001\n"
     ]
    }
   ],
   "source": [
    "print(bin(c.read_byte_data(addr_charger, 0x16)))\n",
    "\n",
    "\n",
    "charge_current_ma = 800\n",
    "\n",
    "c.write_byte_data(addr_charger, 0x02, int(charge_current_ma/40)<<5)\n",
    "c.write_byte_data(addr_charger, 0x14, 0b00100010)\n",
    "c.write_byte_data(addr_charger, 0x15, 0b00011101)\n",
    "c.write_byte_data(addr_charger, 0x16, 0b10100000)\n",
    "c.write_byte_data(addr_charger, 0x17, 0b01010110)\n",
    "c.write_byte_data(addr_charger, 0x18, 0b00000000)\n",
    "c.write_byte_data(addr_charger, 0x19, 0b00000001)\n",
    "\n",
    "\n",
    "# NTC\n",
    "c.write_byte_data(addr_charger, 0x1a, 0b10111111)\n",
    "\n",
    "# ADC\n",
    "c.write_byte_data(addr_charger, 0x26, 0b10001100)"
   ]
  },
  {
   "cell_type": "code",
   "execution_count": 14,
   "id": "141c4fde",
   "metadata": {},
   "outputs": [
    {
     "name": "stdout",
     "output_type": "stream",
     "text": [
      "IBUS ADC 246  mA\n",
      "IBAT ADC 264  mA\n",
      "VBUS ADC 5045.87  mV\n",
      "VPMID ADC 5041.900000000001  mV\n",
      "VBAT ADC 4190.94  mV\n",
      "VSYS ADC 4220.79  mV\n",
      "TS ADC 0.0  %\n",
      "TDIE ADC -22.0  C\n"
     ]
    }
   ],
   "source": [
    "\n",
    "while True:\n",
    "    # Zapnout interni ADC prevodnik\n",
    "    #print(bin(c.read_byte_data(addr_charger, 0x26)))\n",
    "    #c.write_byte_data(addr_charger, 0x26, 0b10001100)\n",
    "    \n",
    "    clear_output()\n",
    "    print(\"IBUS ADC\", comp(crop(read_2(c, addr_charger, 0x28), 1, 16), 15) * 2, \" mA\")\n",
    "    #print(\" \")\n",
    "\n",
    "    print(\"IBAT ADC\", comp(crop(read_2(c, addr_charger, 0x2A), 2, 16), 14) * 4, \" mA\")\n",
    "    #print(\" \")\n",
    "\n",
    "    print(\"VBUS ADC\", crop(read_2(c, addr_charger, 0x2C), 2, 15) * 3.97, \" mV\")\n",
    "    #print(\" \")\n",
    "\n",
    "    print(\"VPMID ADC\", crop(read_2(c, addr_charger, 0x2E), 2, 15) * 3.97, \" mV\")\n",
    "    #print(\" \")\n",
    "\n",
    "    print(\"VBAT ADC\", crop(read_2(c, addr_charger, 0x30), 1, 13) * 1.99, \" mV\")\n",
    "    #print(\" \")\n",
    "\n",
    "    print(\"VSYS ADC\", crop(read_2(c, addr_charger, 0x32), 1, 13) * 1.99, \" mV\")\n",
    "    #print(\" \")\n",
    "\n",
    "    print(\"TS ADC\", crop(read_2(c, addr_charger, 0x34), 0, 12) * 0.0961, \" %\")\n",
    "    #print(\" \")\n",
    "\n",
    "    print(\"TDIE ADC\", crop(read_2(c, addr_charger, 0x36), 0, 12) * 0.5 - 40, \" C\")\n",
    "    #print(\" \")\n",
    "\n",
    "    time.sleep(1)\n",
    "    break\n"
   ]
  },
  {
   "cell_type": "code",
   "execution_count": 15,
   "id": "d849865c",
   "metadata": {},
   "outputs": [],
   "source": [
    "# Nastavit timery\n",
    "c.write_byte_data(addr_charger, 0x15, 0b00001001)"
   ]
  },
  {
   "cell_type": "code",
   "execution_count": 17,
   "id": "91fa59fd",
   "metadata": {},
   "outputs": [
    {
     "name": "stdout",
     "output_type": "stream",
     "text": [
      "Charger status 0: 0b00000000\n",
      "Charger status 1: 0b00010100\n",
      "Fault reg 0: 0b00000000\n",
      "Charger flag 0: 0b00000000\n",
      "Charger flag 1: 0b00000000\n",
      "Fault flag 0: 0b00000000\n"
     ]
    }
   ],
   "source": [
    "d = c.read_byte_data(addr_charger, 0x1d)\n",
    "print(\"Charger status 0: 0b{0:08b}\".format(d))\n",
    "\n",
    "d = c.read_byte_data(addr_charger, 0x1e)\n",
    "print(\"Charger status 1: 0b{0:08b}\".format(d))\n",
    "\n",
    "d = c.read_byte_data(addr_charger, 0x1f)\n",
    "print(\"Fault reg 0: 0b{0:08b}\".format(d))\n",
    "\n",
    "d = c.read_byte_data(addr_charger, 0x20)\n",
    "print(\"Charger flag 0: 0b{0:08b}\".format(d))\n",
    "\n",
    "d = c.read_byte_data(addr_charger, 0x21)\n",
    "print(\"Charger flag 1: 0b{0:08b}\".format(d))\n",
    "\n",
    "d = c.read_byte_data(addr_charger, 0x22)\n",
    "print(\"Fault flag 0: 0b{0:08b}\".format(d))"
   ]
  },
  {
   "cell_type": "code",
   "execution_count": null,
   "id": "8580c42e",
   "metadata": {},
   "outputs": [],
   "source": []
  },
  {
   "cell_type": "code",
   "execution_count": 22,
   "id": "175b9eab",
   "metadata": {},
   "outputs": [
    {
     "ename": "OSError",
     "evalue": "[Errno 5] Input/output error",
     "output_type": "error",
     "traceback": [
      "\u001b[0;31m---------------------------------------------------------------------------\u001b[0m",
      "\u001b[0;31mOSError\u001b[0m                                   Traceback (most recent call last)",
      "\u001b[0;32m/tmp/ipykernel_7765/1988033528.py\u001b[0m in \u001b[0;36m<module>\u001b[0;34m\u001b[0m\n\u001b[0;32m----> 1\u001b[0;31m \u001b[0mvoltage\u001b[0m \u001b[0;34m=\u001b[0m \u001b[0mc\u001b[0m\u001b[0;34m.\u001b[0m\u001b[0mread_i2c_block_data\u001b[0m\u001b[0;34m(\u001b[0m\u001b[0;36m0x55\u001b[0m\u001b[0;34m,\u001b[0m\u001b[0;36m0x08\u001b[0m\u001b[0;34m,\u001b[0m\u001b[0;36m2\u001b[0m\u001b[0;34m)\u001b[0m\u001b[0;34m\u001b[0m\u001b[0;34m\u001b[0m\u001b[0m\n\u001b[0m\u001b[1;32m      2\u001b[0m \u001b[0mvoltage\u001b[0m \u001b[0;34m=\u001b[0m \u001b[0;34m(\u001b[0m\u001b[0mvoltage\u001b[0m\u001b[0;34m[\u001b[0m\u001b[0;36m1\u001b[0m\u001b[0;34m]\u001b[0m \u001b[0;34m<<\u001b[0m \u001b[0;36m8\u001b[0m\u001b[0;34m)\u001b[0m \u001b[0;34m|\u001b[0m \u001b[0mvoltage\u001b[0m\u001b[0;34m[\u001b[0m\u001b[0;36m0\u001b[0m\u001b[0;34m]\u001b[0m\u001b[0;34m\u001b[0m\u001b[0;34m\u001b[0m\u001b[0m\n\u001b[1;32m      3\u001b[0m \u001b[0mprint\u001b[0m\u001b[0;34m(\u001b[0m\u001b[0;34mf\"Voltage {voltage} mV\"\u001b[0m\u001b[0;34m)\u001b[0m\u001b[0;34m\u001b[0m\u001b[0;34m\u001b[0m\u001b[0m\n\u001b[1;32m      4\u001b[0m \u001b[0;34m\u001b[0m\u001b[0m\n\u001b[1;32m      5\u001b[0m \u001b[0mcurrent\u001b[0m \u001b[0;34m=\u001b[0m \u001b[0mc\u001b[0m\u001b[0;34m.\u001b[0m\u001b[0mread_i2c_block_data\u001b[0m\u001b[0;34m(\u001b[0m\u001b[0;36m0x55\u001b[0m\u001b[0;34m,\u001b[0m\u001b[0;36m0x0a\u001b[0m\u001b[0;34m,\u001b[0m\u001b[0;36m2\u001b[0m\u001b[0;34m)\u001b[0m\u001b[0;34m\u001b[0m\u001b[0;34m\u001b[0m\u001b[0m\n",
      "\u001b[0;32m/usr/local/lib/python3.10/dist-packages/smbus2/smbus2.py\u001b[0m in \u001b[0;36mread_i2c_block_data\u001b[0;34m(self, i2c_addr, register, length, force)\u001b[0m\n\u001b[1;32m    615\u001b[0m         )\n\u001b[1;32m    616\u001b[0m         \u001b[0mmsg\u001b[0m\u001b[0;34m.\u001b[0m\u001b[0mdata\u001b[0m\u001b[0;34m.\u001b[0m\u001b[0mcontents\u001b[0m\u001b[0;34m.\u001b[0m\u001b[0mbyte\u001b[0m \u001b[0;34m=\u001b[0m \u001b[0mlength\u001b[0m\u001b[0;34m\u001b[0m\u001b[0;34m\u001b[0m\u001b[0m\n\u001b[0;32m--> 617\u001b[0;31m         \u001b[0mioctl\u001b[0m\u001b[0;34m(\u001b[0m\u001b[0mself\u001b[0m\u001b[0;34m.\u001b[0m\u001b[0mfd\u001b[0m\u001b[0;34m,\u001b[0m \u001b[0mI2C_SMBUS\u001b[0m\u001b[0;34m,\u001b[0m \u001b[0mmsg\u001b[0m\u001b[0;34m)\u001b[0m\u001b[0;34m\u001b[0m\u001b[0;34m\u001b[0m\u001b[0m\n\u001b[0m\u001b[1;32m    618\u001b[0m         \u001b[0;32mreturn\u001b[0m \u001b[0mmsg\u001b[0m\u001b[0;34m.\u001b[0m\u001b[0mdata\u001b[0m\u001b[0;34m.\u001b[0m\u001b[0mcontents\u001b[0m\u001b[0;34m.\u001b[0m\u001b[0mblock\u001b[0m\u001b[0;34m[\u001b[0m\u001b[0;36m1\u001b[0m\u001b[0;34m:\u001b[0m\u001b[0mlength\u001b[0m \u001b[0;34m+\u001b[0m \u001b[0;36m1\u001b[0m\u001b[0;34m]\u001b[0m\u001b[0;34m\u001b[0m\u001b[0;34m\u001b[0m\u001b[0m\n\u001b[1;32m    619\u001b[0m \u001b[0;34m\u001b[0m\u001b[0m\n",
      "\u001b[0;31mOSError\u001b[0m: [Errno 5] Input/output error"
     ]
    }
   ],
   "source": [
    "voltage = c.read_i2c_block_data(0x55,0x08,2)\n",
    "voltage = (voltage[1] << 8) | voltage[0]\n",
    "print(f\"Voltage {voltage} mV\")\n",
    "\n",
    "current = c.read_i2c_block_data(0x55,0x0a,2)\n",
    "current = (current[1] << 8) | current[0]\n",
    "print(f\"Current {current} mA (avg)\")\n",
    "\n",
    "current = c.read_i2c_block_data(0x55,0x10,2)\n",
    "current = (current[1] << 8) | current[0]\n",
    "print(f\"Current {current} mA\")\n",
    "\n",
    "\n",
    "d = c.read_word_data(0x55,0x04)\n",
    "print(f\"RemainingCapacity {d} mAh\")\n",
    "\n",
    "\n",
    "d = c.read_word_data(0x55,0x06)\n",
    "print(f\"Full Capacity {d} mAh\")\n",
    "\n",
    "d = c.read_word_data(0x55,0x0c)\n",
    "print(f\"Temp {d/10-273} C\")\n",
    "\n",
    "\n",
    "d = c.read_byte(0x55,0x02)\n",
    "print(f\"State: {d} %\")\n",
    "\n",
    "\n",
    "#d = c.read_ (0x55,0x04,2)\n",
    "#d = (d[1] << 8) | d[0]\n",
    "#print(f\"CRemainingCapacity {d} mAh\")"
   ]
  },
  {
   "cell_type": "code",
   "execution_count": 75,
   "id": "b0207e82",
   "metadata": {},
   "outputs": [
    {
     "name": "stdout",
     "output_type": "stream",
     "text": [
      "Full Available Capacity is 302 mA\n"
     ]
    },
    {
     "ename": "OSError",
     "evalue": "[Errno 5] Input/output error",
     "output_type": "error",
     "traceback": [
      "\u001b[0;31m---------------------------------------------------------------------------\u001b[0m",
      "\u001b[0;31mOSError\u001b[0m                                   Traceback (most recent call last)",
      "\u001b[0;32m/tmp/ipykernel_6843/1645996098.py\u001b[0m in \u001b[0;36m<module>\u001b[0;34m\u001b[0m\n\u001b[1;32m     16\u001b[0m \u001b[0mbus\u001b[0m\u001b[0;34m.\u001b[0m\u001b[0mwrite_byte_data\u001b[0m\u001b[0;34m(\u001b[0m\u001b[0maddress\u001b[0m\u001b[0;34m,\u001b[0m\u001b[0;36m0x01\u001b[0m\u001b[0;34m,\u001b[0m\u001b[0;36m0x00\u001b[0m\u001b[0;34m)\u001b[0m\u001b[0;34m\u001b[0m\u001b[0;34m\u001b[0m\u001b[0m\n\u001b[1;32m     17\u001b[0m \u001b[0;34m\u001b[0m\u001b[0m\n\u001b[0;32m---> 18\u001b[0;31m \u001b[0mbus\u001b[0m\u001b[0;34m.\u001b[0m\u001b[0mwrite_byte_data\u001b[0m\u001b[0;34m(\u001b[0m\u001b[0maddress\u001b[0m\u001b[0;34m,\u001b[0m\u001b[0;36m0x61\u001b[0m\u001b[0;34m,\u001b[0m\u001b[0;36m0x00\u001b[0m\u001b[0;34m)\u001b[0m\u001b[0;34m\u001b[0m\u001b[0;34m\u001b[0m\u001b[0m\n\u001b[0m\u001b[1;32m     19\u001b[0m \u001b[0mbus\u001b[0m\u001b[0;34m.\u001b[0m\u001b[0mwrite_byte_data\u001b[0m\u001b[0;34m(\u001b[0m\u001b[0maddress\u001b[0m\u001b[0;34m,\u001b[0m\u001b[0;36m0x3e\u001b[0m\u001b[0;34m,\u001b[0m\u001b[0;36m0x52\u001b[0m\u001b[0;34m)\u001b[0m\u001b[0;34m\u001b[0m\u001b[0;34m\u001b[0m\u001b[0m\n\u001b[1;32m     20\u001b[0m \u001b[0mbus\u001b[0m\u001b[0;34m.\u001b[0m\u001b[0mwrite_byte_data\u001b[0m\u001b[0;34m(\u001b[0m\u001b[0maddress\u001b[0m\u001b[0;34m,\u001b[0m\u001b[0;36m0x3f\u001b[0m\u001b[0;34m,\u001b[0m\u001b[0;36m0x00\u001b[0m\u001b[0;34m)\u001b[0m\u001b[0;34m\u001b[0m\u001b[0;34m\u001b[0m\u001b[0m\n",
      "\u001b[0;32m/usr/local/lib/python3.10/dist-packages/smbus2/smbus2.py\u001b[0m in \u001b[0;36mwrite_byte_data\u001b[0;34m(self, i2c_addr, register, value, force)\u001b[0m\n\u001b[1;32m    453\u001b[0m         )\n\u001b[1;32m    454\u001b[0m         \u001b[0mmsg\u001b[0m\u001b[0;34m.\u001b[0m\u001b[0mdata\u001b[0m\u001b[0;34m.\u001b[0m\u001b[0mcontents\u001b[0m\u001b[0;34m.\u001b[0m\u001b[0mbyte\u001b[0m \u001b[0;34m=\u001b[0m \u001b[0mvalue\u001b[0m\u001b[0;34m\u001b[0m\u001b[0;34m\u001b[0m\u001b[0m\n\u001b[0;32m--> 455\u001b[0;31m         \u001b[0mioctl\u001b[0m\u001b[0;34m(\u001b[0m\u001b[0mself\u001b[0m\u001b[0;34m.\u001b[0m\u001b[0mfd\u001b[0m\u001b[0;34m,\u001b[0m \u001b[0mI2C_SMBUS\u001b[0m\u001b[0;34m,\u001b[0m \u001b[0mmsg\u001b[0m\u001b[0;34m)\u001b[0m\u001b[0;34m\u001b[0m\u001b[0;34m\u001b[0m\u001b[0m\n\u001b[0m\u001b[1;32m    456\u001b[0m \u001b[0;34m\u001b[0m\u001b[0m\n\u001b[1;32m    457\u001b[0m     \u001b[0;32mdef\u001b[0m \u001b[0mread_word_data\u001b[0m\u001b[0;34m(\u001b[0m\u001b[0mself\u001b[0m\u001b[0;34m,\u001b[0m \u001b[0mi2c_addr\u001b[0m\u001b[0;34m,\u001b[0m \u001b[0mregister\u001b[0m\u001b[0;34m,\u001b[0m \u001b[0mforce\u001b[0m\u001b[0;34m=\u001b[0m\u001b[0;32mNone\u001b[0m\u001b[0;34m)\u001b[0m\u001b[0;34m:\u001b[0m\u001b[0;34m\u001b[0m\u001b[0;34m\u001b[0m\u001b[0m\n",
      "\u001b[0;31mOSError\u001b[0m: [Errno 5] Input/output error"
     ]
    }
   ],
   "source": [
    "import struct \n",
    "bus = c\n",
    "address = 0x55\n",
    "\n",
    "e=bus.read_i2c_block_data(address,0x0a,2)\n",
    "(full_cap,)=struct.unpack('H', bytearray(e)[0:2])\n",
    "print(\"Full Available Capacity is\",full_cap, 'mA')\n",
    "\n",
    "#Trying to write the nominal capacity\n",
    "bus.write_byte_data(address,0x00,0x00)\n",
    "bus.write_byte_data(address,0x01,0x80)\n",
    "bus.write_byte_data(address,0x00,0x00)\n",
    "bus.write_byte_data(address,0x01,0x80)\n",
    "\n",
    "bus.write_byte_data(address,0x00,0x13)\n",
    "bus.write_byte_data(address,0x01,0x00)\n",
    "\n",
    "bus.write_byte_data(address,0x61,0x00)\n",
    "bus.write_byte_data(address,0x3e,0x52)\n",
    "bus.write_byte_data(address,0x3f,0x00)\n",
    "\n",
    "bus.write_byte_data(address,0x4a,0x04) #writing new capacity\n",
    "bus.write_byte_data(address,0x4b,0xb0) #writing new capacity\n",
    "\n",
    "time.sleep(1)\n",
    "\n",
    "#bus.write_byte_data(address,0x60,0x1f) #trying to write on BlockDataChecksum() \n",
    "\n",
    "time.sleep(1)\n",
    "\n",
    "bus.write_byte_data(address,0x00,0x42)\n",
    "bus.write_byte_data(address,0x01,0x00)\n",
    "\n",
    "bus.write_byte_data(address,0x00,0x20)\n",
    "bus.write_byte_data(address,0x01,0x00)\n",
    "\n",
    "f=bus.read_i2c_block_data(address,0x3c,2) #address for design capacity\n",
    "(des_cap,)=struct.unpack('H', bytearray(f)[0:2])\n",
    "print(des_cap)\n"
   ]
  },
  {
   "cell_type": "code",
   "execution_count": null,
   "id": "3ab0f279",
   "metadata": {},
   "outputs": [],
   "source": []
  },
  {
   "cell_type": "code",
   "execution_count": null,
   "id": "835da5aa",
   "metadata": {},
   "outputs": [],
   "source": []
  },
  {
   "cell_type": "markdown",
   "id": "de257bda",
   "metadata": {},
   "source": [
    "EEPROM + Serial number..."
   ]
  },
  {
   "cell_type": "code",
   "execution_count": 20,
   "id": "ef9248cd",
   "metadata": {},
   "outputs": [
    {
     "data": {
      "text/plain": [
       "[0, 0, 0, 0, 0, 0, 0, 0, 0, 0, 0, 0, 0, 0, 0, 255]"
      ]
     },
     "execution_count": 20,
     "metadata": {},
     "output_type": "execute_result"
    }
   ],
   "source": [
    "c.read_i2c_block_data(addr_eepromsn, 0b00001000, 16)"
   ]
  },
  {
   "cell_type": "code",
   "execution_count": null,
   "id": "0088a1e4",
   "metadata": {},
   "outputs": [],
   "source": []
  },
  {
   "cell_type": "markdown",
   "id": "afda1db9",
   "metadata": {},
   "source": [
    "\n",
    "# RTC"
   ]
  },
  {
   "cell_type": "code",
   "execution_count": 40,
   "id": "0de4da18",
   "metadata": {},
   "outputs": [],
   "source": [
    "import datetime"
   ]
  },
  {
   "cell_type": "code",
   "execution_count": 41,
   "id": "dbabf018",
   "metadata": {},
   "outputs": [],
   "source": [
    "def get_time():\n",
    "    r01 = c.read_byte_data(addr_rtc, 0x01)\n",
    "    r02 = c.read_byte_data(addr_rtc, 0x02)\n",
    "    r03 = c.read_byte_data(addr_rtc, 0x03)\n",
    "    r04 = c.read_byte_data(addr_rtc, 0x04)\n",
    "    r06 = c.read_byte_data(addr_rtc, 0x06)\n",
    "    r07 = c.read_byte_data(addr_rtc, 0x07)\n",
    "\n",
    "    sec = ((r01 >> 4) & 0b111) * 10 + (r01 & 0b1111)\n",
    "    minu= ((r02 >> 4) & 0b111) * 10 + (r02 & 0b1111)\n",
    "    hour= ((r03 >> 4) & 0b11) * 10 + (r03 & 0b1111)\n",
    "    day = ((r04 >> 4) & 0b11) * 10 + (r04 & 0b1111)\n",
    "    mon = ((r06 >> 4) & 0b1) * 10 + (r06 & 0b1111)\n",
    "    year= ((r07 >> 4) & 0b1111) * 10 + (r07 & 0b1111)+2000\n",
    "        \n",
    "    return datetime.datetime(year, mon, day, hour, minu, sec)\n",
    "    \n",
    "def set_time(time):\n",
    "    c.write_byte_data(addr_rtc, 0x01, (time.second % 10) | int(time.second/10)<<4 )\n",
    "    c.write_byte_data(addr_rtc, 0x02, (time.minute % 10) | int(time.minute/10)<<4 )\n",
    "    c.write_byte_data(addr_rtc, 0x03, (time.hour % 10) | int(time.hour/10)<<4 )\n",
    "    c.write_byte_data(addr_rtc, 0x04, (time.day % 10) | int(time.day/10)<<4 )\n",
    "    c.write_byte_data(addr_rtc, 0x06, (time.month % 10) | int(time.month/10)<<4 )\n",
    "    c.write_byte_data(addr_rtc, 0x07, ((time.year-2000) % 10) | int((time.year-2000)/10)<<4 )"
   ]
  },
  {
   "cell_type": "code",
   "execution_count": 44,
   "id": "ec6c840e",
   "metadata": {},
   "outputs": [
    {
     "name": "stdout",
     "output_type": "stream",
     "text": [
      "Actual time 2023-11-24 01:32:12.897508\n",
      "Detector time 2023-11-24 01:32:12\n",
      "Difference -1 day, 23:59:59.102492\n"
     ]
    }
   ],
   "source": [
    "actual_time = datetime.datetime.utcnow()\n",
    "detector_time = get_time()\n",
    "print(\"Actual time\", actual_time)\n",
    "print(\"Detector time\", detector_time)\n",
    "print(\"Difference\", detector_time-actual_time)"
   ]
  },
  {
   "cell_type": "code",
   "execution_count": 43,
   "id": "9d8f7972",
   "metadata": {},
   "outputs": [],
   "source": [
    "actual_time = datetime.datetime.utcnow()\n",
    "set_time(actual_time)"
   ]
  },
  {
   "cell_type": "code",
   "execution_count": 38,
   "id": "dca252ce",
   "metadata": {},
   "outputs": [
    {
     "data": {
      "text/plain": [
       "2"
      ]
     },
     "execution_count": 38,
     "metadata": {},
     "output_type": "execute_result"
    }
   ],
   "source": [
    "actual_time.second"
   ]
  },
  {
   "cell_type": "code",
   "execution_count": 39,
   "id": "538fa64d",
   "metadata": {},
   "outputs": [],
   "source": [
    "\n",
    "time = actual_time"
   ]
  },
  {
   "cell_type": "code",
   "execution_count": null,
   "id": "d5b7562f",
   "metadata": {},
   "outputs": [],
   "source": [
    "bin( (time.second % 10)<<4)"
   ]
  },
  {
   "cell_type": "code",
   "execution_count": null,
   "id": "3dcd2e50",
   "metadata": {},
   "outputs": [],
   "source": []
  }
 ],
 "metadata": {
  "kernelspec": {
   "display_name": "Python 3 (ipykernel)",
   "language": "python",
   "name": "python3"
  },
  "language_info": {
   "codemirror_mode": {
    "name": "ipython",
    "version": 3
   },
   "file_extension": ".py",
   "mimetype": "text/x-python",
   "name": "python",
   "nbconvert_exporter": "python",
   "pygments_lexer": "ipython3",
   "version": "3.10.12"
  }
 },
 "nbformat": 4,
 "nbformat_minor": 5
}
