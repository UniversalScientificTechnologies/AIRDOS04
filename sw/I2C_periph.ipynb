{
 "cells": [
  {
   "cell_type": "code",
   "execution_count": 1,
   "id": "a05de419",
   "metadata": {},
   "outputs": [],
   "source": [
    "import smbus2\n",
    "import time\n",
    "from IPython.display import clear_output\n",
    "import datetime"
   ]
  },
  {
   "cell_type": "code",
   "execution_count": 2,
   "id": "67018dc0",
   "metadata": {},
   "outputs": [],
   "source": [
    "addr_sht = 0x44\n",
    "addr_switch = 0x70\n",
    "addr_sdcard = 0x71\n",
    "addr_charger = 0x6a\n",
    "addr_gauge = 0x55\n",
    "addr_rtc = 0x51\n",
    "addr_eeprom = 0x50\n",
    "addr_eepromsn = 0x58\n",
    "addr_altimet = 0x77\n",
    "\n",
    "addresses = {\n",
    "    'sht': addr_sht, \n",
    "    'switch': addr_switch, \n",
    "    'sdcard': addr_sdcard,\n",
    "    'charger': addr_charger,\n",
    "    'gauge': addr_gauge,\n",
    "    'rtc': addr_rtc,\n",
    "    'eeprom': addr_eeprom,\n",
    "    'eepromsn': addr_eepromsn, \n",
    "    'altimet': addr_altimet}"
   ]
  },
  {
   "cell_type": "code",
   "execution_count": null,
   "id": "f3477974",
   "metadata": {},
   "outputs": [],
   "source": []
  },
  {
   "cell_type": "code",
   "execution_count": 3,
   "id": "68cd9765",
   "metadata": {},
   "outputs": [],
   "source": [
    "def read_2(c, addr, reg):\n",
    "    d = c.read_i2c_block_data(addr, reg, 2)\n",
    "    #print([bin(x) for x in d])\n",
    "\n",
    "    d = d[0]| d[1] << 8\n",
    "    #print(bin(d))\n",
    "    return d\n",
    "\n",
    "def crop(number, start=0, end=16):\n",
    "    # Vytvoření masky s jedničkami na pozicích od start do end\n",
    "    mask = ((1 << (end - start + 1)) - 1) << start\n",
    "    \n",
    "    # Použití masky pro vybrání příslušných bitů\n",
    "    result = (number & mask) >> start\n",
    "    \n",
    "    return result\n",
    "\n",
    "def comp(data, length=16):\n",
    "\n",
    "    if data & (1 << (length-1)):\n",
    "        data = data ^ ((1 << length) - 1)\n",
    "        data = -(data + 1)\n",
    "\n",
    "    return data\n",
    "\n"
   ]
  },
  {
   "cell_type": "code",
   "execution_count": 4,
   "id": "fc382b92",
   "metadata": {},
   "outputs": [
    {
     "name": "stdout",
     "output_type": "stream",
     "text": [
      "na\n"
     ]
    }
   ],
   "source": [
    "try:\n",
    "    c.close()\n",
    "except Exception as e:\n",
    "    print(\"na\")"
   ]
  },
  {
   "cell_type": "code",
   "execution_count": 5,
   "id": "4091a2b6",
   "metadata": {},
   "outputs": [],
   "source": [
    "def con():\n",
    "    return smbus2.SMBus(8)\n",
    "\n",
    "c = con()"
   ]
  },
  {
   "cell_type": "markdown",
   "id": "4ff965a1",
   "metadata": {},
   "source": [
    "# I2C switch, switch internal I2C bus into USB (FT260) IO"
   ]
  },
  {
   "cell_type": "code",
   "execution_count": 6,
   "id": "66c56eee",
   "metadata": {},
   "outputs": [],
   "source": [
    "c=con()"
   ]
  },
  {
   "cell_type": "code",
   "execution_count": 7,
   "id": "b9859ddc",
   "metadata": {},
   "outputs": [],
   "source": [
    "c.write_byte_data(addr_switch, 0x01, 0x03) # nastavit I2C switch do USB"
   ]
  },
  {
   "cell_type": "code",
   "execution_count": 8,
   "id": "0d9a4626",
   "metadata": {},
   "outputs": [
    {
     "data": {
      "text/plain": [
       "'0xb'"
      ]
     },
     "execution_count": 8,
     "metadata": {},
     "output_type": "execute_result"
    }
   ],
   "source": [
    "hex(c.read_byte(addr_switch, 0x01))"
   ]
  },
  {
   "cell_type": "code",
   "execution_count": 9,
   "id": "172ab323",
   "metadata": {},
   "outputs": [
    {
     "name": "stdout",
     "output_type": "stream",
     "text": [
      "     0  1  2  3  4  5  6  7  8  9  a  b  c  d  e  f\n",
      "00:          -- -- -- -- -- -- -- -- -- -- -- -- --\n",
      "10: -- -- -- -- -- -- -- -- -- -- -- -- -- -- -- --\n",
      "20: -- -- -- -- -- -- -- -- -- -- -- -- -- -- -- --\n",
      "30: -- -- -- -- -- -- -- -- -- -- -- -- -- -- -- --\n",
      "40: -- -- -- -- 44 -- -- -- -- -- -- -- -- -- -- --\n",
      "50: 50 51 -- -- -- 55 -- -- 58 -- -- -- -- -- -- --\n",
      "60: -- -- -- -- -- -- -- -- -- -- 6a -- -- -- -- --\n",
      "70: 70 71 -- -- -- -- -- --                        \n",
      "\n",
      "\n",
      "\n",
      "(0x44) - sht: True\n",
      "(0x70) - switch: True\n",
      "(0x71) - sdcard: True\n",
      "(0x6a) - charger: True\n",
      "(0x55) - gauge: True\n",
      "(0x51) - rtc: True\n",
      "(0x50) - eeprom: True\n",
      "(0x58) - eepromsn: True\n",
      "(0x77) - altimet: False\n"
     ]
    }
   ],
   "source": [
    "import sys\n",
    "def scan_i2c_bus(_bus):\n",
    "  devices = []\n",
    "  sys.stdout.write ('   ')\n",
    "  for _address in range(16):\n",
    "    sys.stdout.write (' %2x' % _address) # Print header\n",
    "  \n",
    "  for _address in range(128):\n",
    "    if not _address % 16:\n",
    "      sys.stdout.write ('\\n%02x:' % _address) # Print address\n",
    "    if 2 < _address < 120 : # Skip reserved addresses\n",
    "      try:\n",
    "        _bus.read_byte(_address)\n",
    "        sys.stdout.write (' %02x' % _address) # Device address\n",
    "        devices.append(_address)\n",
    "      except:\n",
    "        sys.stdout.write (' --') # No device detected\n",
    "    else:\n",
    "      sys.stdout.write ('   ') # Reserved\n",
    "\n",
    "  sys.stdout.write ('\\n')\n",
    "  return devices\n",
    "\n",
    "devices = scan_i2c_bus(c)\n",
    "devices = set(devices)\n",
    "\n",
    "print(\"\\n\\n\")\n",
    "for an in addresses:\n",
    "  print(f\"(0x{addresses[an]:02x}) - {an}: {addresses[an] in devices}\" )\n",
    "  #print(an, addressesav, av in devices)"
   ]
  },
  {
   "cell_type": "markdown",
   "id": "06f7f904",
   "metadata": {},
   "source": [
    "# Nabíječka "
   ]
  },
  {
   "cell_type": "code",
   "execution_count": 10,
   "id": "94204b65",
   "metadata": {},
   "outputs": [],
   "source": [
    "# Vypnout bateriovy modul\n",
    "if 0:\n",
    "    c.write_byte_data(addr_charger, 0x18, 0x0a)"
   ]
  },
  {
   "cell_type": "code",
   "execution_count": null,
   "id": "b22eb874",
   "metadata": {},
   "outputs": [],
   "source": []
  },
  {
   "cell_type": "code",
   "execution_count": 11,
   "id": "c978f6b8",
   "metadata": {},
   "outputs": [
    {
     "name": "stdout",
     "output_type": "stream",
     "text": [
      "0b10100001\n"
     ]
    }
   ],
   "source": [
    "print(bin(c.read_byte_data(addr_charger, 0x16)))\n",
    "\n",
    "\n",
    "charge_current_ma = 500\n",
    "\n",
    "c.write_byte_data(addr_charger, 0x10, 0x1f << 3)\n",
    "\n",
    "c.write_byte_data(addr_charger, 0x02, int(charge_current_ma/40)<<5)\n",
    "c.write_byte_data(addr_charger, 0x14, 0b00100110)\n",
    "c.write_byte_data(addr_charger, 0x15, 0b00011101)\n",
    "c.write_byte_data(addr_charger, 0x16, 0b10100000)\n",
    "c.write_byte_data(addr_charger, 0x17, 0b01010110)\n",
    "c.write_byte_data(addr_charger, 0x18, 0b00000000)\n",
    "c.write_byte_data(addr_charger, 0x19, 0b00000001)\n",
    "\n",
    "\n",
    "# NTC\n",
    "c.write_byte_data(addr_charger, 0x1a, 0b10111111)\n",
    "\n",
    "# ADC\n",
    "c.write_byte_data(addr_charger, 0x26, 0b10001100)"
   ]
  },
  {
   "cell_type": "code",
   "execution_count": 12,
   "id": "141c4fde",
   "metadata": {},
   "outputs": [
    {
     "name": "stdout",
     "output_type": "stream",
     "text": [
      "IBUS ADC 56  mA\n",
      "IBAT ADC 0  mA\n",
      "VBUS ADC 5037.93  mV\n",
      "VPMID ADC 5037.93  mV\n",
      "VBAT ADC 4177.01  mV\n",
      "VSYS ADC 4200.89  mV\n"
     ]
    }
   ],
   "source": [
    "\n",
    "while True:\n",
    "    # Zapnout interni ADC prevodnik\n",
    "    #print(bin(c.read_byte_data(addr_charger, 0x26)))\n",
    "    #c.write_byte_data(addr_charger, 0x26, 0b10001100)\n",
    "    \n",
    "    clear_output()\n",
    "    print(\"IBUS ADC\", comp(crop(read_2(c, addr_charger, 0x28), 1, 16), 15) * 2, \" mA\")\n",
    "    #print(\" \")\n",
    "\n",
    "    print(\"IBAT ADC\", comp(crop(read_2(c, addr_charger, 0x2A), 2, 16), 14) * 4, \" mA\")\n",
    "    #print(\" \")\n",
    "\n",
    "    print(\"VBUS ADC\", crop(read_2(c, addr_charger, 0x2C), 2, 15) * 3.97, \" mV\")\n",
    "    #print(\" \")\n",
    "\n",
    "    print(\"VPMID ADC\", crop(read_2(c, addr_charger, 0x2E), 2, 15) * 3.97, \" mV\")\n",
    "    #print(\" \")\n",
    "\n",
    "    print(\"VBAT ADC\", crop(read_2(c, addr_charger, 0x30), 1, 13) * 1.99, \" mV\")\n",
    "    #print(\" \")\n",
    "\n",
    "    print(\"VSYS ADC\", crop(read_2(c, addr_charger, 0x32), 1, 13) * 1.99, \" mV\")\n",
    "    #print(\" \")\n",
    "\n",
    "    #print(\"TS ADC\", crop(read_2(c, addr_charger, 0x34), 0, 12) * 0.0961, \" %\")\n",
    "    #print(\" \")\n",
    "\n",
    "    #print(\"TDIE ADC\", crop(read_2(c, addr_charger, 0x36), 0, 12) * 0.5 - 40, \" C\")\n",
    "    #print(\" \")\n",
    "\n",
    "    time.sleep(1)\n",
    "    break\n"
   ]
  },
  {
   "cell_type": "code",
   "execution_count": 13,
   "id": "d849865c",
   "metadata": {},
   "outputs": [],
   "source": [
    "# Nastavit timery\n",
    "c.write_byte_data(addr_charger, 0x15, 0b00001001)"
   ]
  },
  {
   "cell_type": "code",
   "execution_count": 14,
   "id": "91fa59fd",
   "metadata": {},
   "outputs": [
    {
     "name": "stdout",
     "output_type": "stream",
     "text": [
      "Charger status 0: 0b00000000\n",
      "Charger status 1: 0b00010100\n",
      "Fault reg 0: 0b00000000\n",
      "Charger flag 0: 0b00010001\n",
      "Charger flag 1: 0b00001001\n",
      "Fault flag 0: 0b00000001\n"
     ]
    }
   ],
   "source": [
    "d = c.read_byte_data(addr_charger, 0x1d)\n",
    "print(\"Charger status 0: 0b{0:08b}\".format(d))\n",
    "\n",
    "d = c.read_byte_data(addr_charger, 0x1e)\n",
    "print(\"Charger status 1: 0b{0:08b}\".format(d))\n",
    "\n",
    "d = c.read_byte_data(addr_charger, 0x1f)\n",
    "print(\"Fault reg 0: 0b{0:08b}\".format(d))\n",
    "\n",
    "d = c.read_byte_data(addr_charger, 0x20)\n",
    "print(\"Charger flag 0: 0b{0:08b}\".format(d))\n",
    "\n",
    "d = c.read_byte_data(addr_charger, 0x21)\n",
    "print(\"Charger flag 1: 0b{0:08b}\".format(d))\n",
    "\n",
    "d = c.read_byte_data(addr_charger, 0x22)\n",
    "print(\"Fault flag 0: 0b{0:08b}\".format(d))"
   ]
  },
  {
   "cell_type": "code",
   "execution_count": null,
   "id": "8580c42e",
   "metadata": {},
   "outputs": [],
   "source": []
  },
  {
   "cell_type": "code",
   "execution_count": 15,
   "id": "175b9eab",
   "metadata": {},
   "outputs": [
    {
     "name": "stdout",
     "output_type": "stream",
     "text": [
      "Voltage 98 mV\n",
      "Current 0 mA (avg)\n",
      "Current 0 mA\n",
      "RemainingCapacity 0 mAh\n",
      "Full Capacity 978 mAh\n",
      "Temp 24.600000000000023 C\n",
      "State: 22 %\n"
     ]
    }
   ],
   "source": [
    "voltage = c.read_i2c_block_data(0x55,0x08,2)\n",
    "voltage = (voltage[1] << 8) | voltage[0]\n",
    "print(f\"Voltage {voltage} mV\")\n",
    "\n",
    "current = c.read_i2c_block_data(0x55,0x0a,2)\n",
    "current = (current[1] << 8) | current[0]\n",
    "print(f\"Current {current} mA (avg)\")\n",
    "\n",
    "current = c.read_i2c_block_data(0x55,0x10,2)\n",
    "current = (current[1] << 8) | current[0]\n",
    "print(f\"Current {current} mA\")\n",
    "\n",
    "\n",
    "d = c.read_word_data(0x55,0x04)\n",
    "print(f\"RemainingCapacity {d} mAh\")\n",
    "\n",
    "\n",
    "d = c.read_word_data(0x55,0x06)\n",
    "print(f\"Full Capacity {d} mAh\")\n",
    "\n",
    "d = c.read_word_data(0x55,0x0c)\n",
    "print(f\"Temp {d/10-273} C\")\n",
    "\n",
    "\n",
    "d = c.read_byte(0x55,0x02)\n",
    "print(f\"State: {d} %\")\n",
    "\n",
    "\n",
    "#d = c.read_ (0x55,0x04,2)\n",
    "#d = (d[1] << 8) | d[0]\n",
    "#print(f\"CRemainingCapacity {d} mAh\")"
   ]
  },
  {
   "cell_type": "code",
   "execution_count": 16,
   "id": "b0207e82",
   "metadata": {},
   "outputs": [
    {
     "name": "stdout",
     "output_type": "stream",
     "text": [
      "Full Available Capacity is 0 mA\n",
      "1000\n"
     ]
    }
   ],
   "source": [
    "import struct \n",
    "bus = c\n",
    "address = 0x55\n",
    "\n",
    "e=bus.read_i2c_block_data(address,0x0a,2)\n",
    "(full_cap,)=struct.unpack('H', bytearray(e)[0:2])\n",
    "print(\"Full Available Capacity is\",full_cap, 'mA')\n",
    "\n",
    "#Trying to write the nominal capacity\n",
    "bus.write_byte_data(address,0x00,0x00)\n",
    "bus.write_byte_data(address,0x01,0x80)\n",
    "bus.write_byte_data(address,0x00,0x00)\n",
    "bus.write_byte_data(address,0x01,0x80)\n",
    "\n",
    "bus.write_byte_data(address,0x00,0x13)\n",
    "bus.write_byte_data(address,0x01,0x00)\n",
    "\n",
    "#bus.write_byte_data(address,0x61,0x00)\n",
    "#bus.write_byte_data(address,0x3e,0x52)\n",
    "#bus.write_byte_data(address,0x3f,0x00)\n",
    "\n",
    "bus.write_byte_data(address,0x4a,0x04) #writing new capacity\n",
    "bus.write_byte_data(address,0x4b,0xb0) #writing new capacity\n",
    "\n",
    "time.sleep(1)\n",
    "\n",
    "#bus.write_byte_data(address,0x60,0x1f) #trying to write on BlockDataChecksum() \n",
    "\n",
    "time.sleep(1)\n",
    "\n",
    "bus.write_byte_data(address,0x00,0x42)\n",
    "bus.write_byte_data(address,0x01,0x00)\n",
    "\n",
    "bus.write_byte_data(address,0x00,0x20)\n",
    "bus.write_byte_data(address,0x01,0x00)\n",
    "\n",
    "f=bus.read_i2c_block_data(address,0x3c,2) #address for design capacity\n",
    "(des_cap,)=struct.unpack('H', bytearray(f)[0:2])\n",
    "print(des_cap)\n"
   ]
  },
  {
   "cell_type": "code",
   "execution_count": null,
   "id": "3ab0f279",
   "metadata": {},
   "outputs": [],
   "source": []
  },
  {
   "cell_type": "code",
   "execution_count": null,
   "id": "835da5aa",
   "metadata": {},
   "outputs": [],
   "source": []
  },
  {
   "cell_type": "markdown",
   "id": "de257bda",
   "metadata": {},
   "source": [
    "EEPROM + Serial number..."
   ]
  },
  {
   "cell_type": "code",
   "execution_count": 17,
   "id": "ef9248cd",
   "metadata": {},
   "outputs": [
    {
     "name": "stdout",
     "output_type": "stream",
     "text": [
      "0x1290c00806a200925448a000a0000063\n"
     ]
    }
   ],
   "source": [
    "def read_serial_number(address):\n",
    "    serial_number = []\n",
    "    c.write_byte_data(address, 0x08, 0x00)\n",
    "    for _ in range(16):\n",
    "        serial_byte = c.read_byte(address)\n",
    "        serial_number.append(serial_byte)\n",
    "    \n",
    "    result_number = 0\n",
    "    for b in serial_number:\n",
    "        result_number = (result_number << 8) | b\n",
    "\n",
    "    return result_number\n",
    "\n",
    "detector_serial_number = read_serial_number(addr_eepromsn)\n",
    "print( hex(detector_serial_number) )\n"
   ]
  },
  {
   "cell_type": "code",
   "execution_count": null,
   "id": "0088a1e4",
   "metadata": {},
   "outputs": [],
   "source": []
  },
  {
   "cell_type": "code",
   "execution_count": null,
   "id": "7ea53ab5",
   "metadata": {},
   "outputs": [],
   "source": [
    "\n"
   ]
  },
  {
   "cell_type": "code",
   "execution_count": 18,
   "id": "5fb910c7",
   "metadata": {},
   "outputs": [
    {
     "name": "stdout",
     "output_type": "stream",
     "text": [
      "Teplota: 22.46 °C\n",
      "Vlhkost: 46.03 %\n",
      "[28, 164, 99, 49, 68, 62]\n",
      "Sériové číslo: 0x1ca43144\n"
     ]
    }
   ],
   "source": [
    "\n",
    "# Příkazy pro čtení teploty a vlhkosti\n",
    "temperature_cmd = [0x24, 0x00]  # Příkaz pro čtení teploty v režimu High Precision\n",
    "humidity_cmd = [0x24, 0x16]     # Příkaz pro čtení vlhkosti v režimu High Precision\n",
    "serial_number_cmd = [0x37, 0x80]\n",
    "\n",
    "# Funkce pro čtení dat ze senzoru\n",
    "def sht_read_sensor_data(cmd):\n",
    "    c.write_i2c_block_data(addr_sht, cmd[0], [cmd[1]])\n",
    "    time.sleep(0.1)  # Počkejte na dokončení měření (0.1 sekundy)\n",
    "    data = c.read_i2c_block_data(addr_sht, 0, 6)\n",
    "    raw_temperature = (data[0] << 8) + data[1]\n",
    "    raw_humidity = (data[3] << 8) + data[4]\n",
    "    temperature = -45 + 175 * (raw_temperature / 65535.0)  # Výpočet teploty\n",
    "    humidity = 100 * (raw_humidity / 65535.0)             # Výpočet vlhkosti\n",
    "    return temperature, humidity\n",
    "\n",
    "\n",
    "def sht_read_sn(cmd):\n",
    "    c.write_i2c_block_data(addr_sht, cmd[0], [cmd[1]])\n",
    "    data = c.read_i2c_block_data(addr_sht, 0, 6)\n",
    "    print(data)\n",
    "    serial_number = (data[0] << 24) | (data[1] << 16) | (data[3] << 8) | data[4]\n",
    "    return serial_number\n",
    "\n",
    "# Čtení teploty a vlhkosti ze senzoru\n",
    "temperature, humidity = sht_read_sensor_data(temperature_cmd)\n",
    "print(\"Teplota: {:.2f} °C\".format(temperature))\n",
    "print(\"Vlhkost: {:.2f} %\".format(humidity))\n",
    "\n",
    "sht_serial_number = sht_read_sn(serial_number_cmd)\n",
    "print(\"Sériové číslo: 0x{:x}\".format(sht_serial_number))\n"
   ]
  },
  {
   "cell_type": "code",
   "execution_count": null,
   "id": "6229ca50",
   "metadata": {},
   "outputs": [],
   "source": [
    "\n"
   ]
  },
  {
   "cell_type": "code",
   "execution_count": null,
   "id": "7ac1d1ab",
   "metadata": {},
   "outputs": [],
   "source": []
  },
  {
   "cell_type": "markdown",
   "id": "afda1db9",
   "metadata": {},
   "source": [
    "\n",
    "# RTC"
   ]
  },
  {
   "cell_type": "code",
   "execution_count": 19,
   "id": "0de4da18",
   "metadata": {},
   "outputs": [],
   "source": [
    "import datetime"
   ]
  },
  {
   "cell_type": "code",
   "execution_count": 20,
   "id": "dbabf018",
   "metadata": {},
   "outputs": [],
   "source": [
    "def get_time():\n",
    "    r01 = c.read_byte_data(addr_rtc, 0x01)\n",
    "    r02 = c.read_byte_data(addr_rtc, 0x02)\n",
    "    r03 = c.read_byte_data(addr_rtc, 0x03)\n",
    "    r04 = c.read_byte_data(addr_rtc, 0x04)\n",
    "    r06 = c.read_byte_data(addr_rtc, 0x06)\n",
    "    r07 = c.read_byte_data(addr_rtc, 0x07)\n",
    "\n",
    "    sec = ((r01 >> 4) & 0b111) * 10 + (r01 & 0b1111)\n",
    "    minu= ((r02 >> 4) & 0b111) * 10 + (r02 & 0b1111)\n",
    "    hour= ((r03 >> 4) & 0b11) * 10 + (r03 & 0b1111)\n",
    "    day = ((r04 >> 4) & 0b11) * 10 + (r04 & 0b1111)\n",
    "    mon = ((r06 >> 4) & 0b1) * 10 + (r06 & 0b1111)\n",
    "    year= ((r07 >> 4) & 0b1111) * 10 + (r07 & 0b1111)+2000\n",
    "\n",
    "    print(year, mon, day, hour, minu, sec)        \n",
    "    return datetime.datetime(year, mon, day, hour, minu, sec)\n",
    "    \n",
    "def set_time(time):\n",
    "    c.write_byte_data(addr_rtc, 0x01, (time.second % 10) | int(time.second/10)<<4 )\n",
    "    c.write_byte_data(addr_rtc, 0x02, (time.minute % 10) | int(time.minute/10)<<4 )\n",
    "    c.write_byte_data(addr_rtc, 0x03, (time.hour % 10) | int(time.hour/10)<<4 )\n",
    "    c.write_byte_data(addr_rtc, 0x04, (time.day % 10) | int(time.day/10)<<4 )\n",
    "    c.write_byte_data(addr_rtc, 0x06, (time.month % 10) | int(time.month/10)<<4 )\n",
    "    c.write_byte_data(addr_rtc, 0x07, ((time.year-2000) % 10) | int((time.year-2000)/10)<<4 )"
   ]
  },
  {
   "cell_type": "code",
   "execution_count": 21,
   "id": "ec6c840e",
   "metadata": {},
   "outputs": [
    {
     "name": "stdout",
     "output_type": "stream",
     "text": [
      "2000 1 1 0 46 29\n",
      "Actual time 2023-12-11 21:22:36.709698\n",
      "Detector time 2000-01-01 00:46:29\n",
      "Difference -8746 days, 3:23:52.290302\n"
     ]
    }
   ],
   "source": [
    "actual_time = datetime.datetime.utcnow()\n",
    "detector_time = get_time()\n",
    "print(\"Actual time\", actual_time)\n",
    "print(\"Detector time\", detector_time)\n",
    "print(\"Difference\", detector_time-actual_time)"
   ]
  },
  {
   "cell_type": "code",
   "execution_count": 22,
   "id": "9d8f7972",
   "metadata": {},
   "outputs": [],
   "source": [
    "actual_time = datetime.datetime.utcnow()\n",
    "set_time(actual_time)"
   ]
  },
  {
   "cell_type": "code",
   "execution_count": 23,
   "id": "dca252ce",
   "metadata": {},
   "outputs": [
    {
     "data": {
      "text/plain": [
       "38"
      ]
     },
     "execution_count": 23,
     "metadata": {},
     "output_type": "execute_result"
    }
   ],
   "source": [
    "actual_time.second"
   ]
  },
  {
   "cell_type": "code",
   "execution_count": 24,
   "id": "538fa64d",
   "metadata": {},
   "outputs": [],
   "source": [
    "\n",
    "time = actual_time"
   ]
  },
  {
   "cell_type": "code",
   "execution_count": 25,
   "id": "d5b7562f",
   "metadata": {},
   "outputs": [
    {
     "data": {
      "text/plain": [
       "'0b10000000'"
      ]
     },
     "execution_count": 25,
     "metadata": {},
     "output_type": "execute_result"
    }
   ],
   "source": [
    "bin( (time.second % 10)<<4)"
   ]
  },
  {
   "cell_type": "code",
   "execution_count": 44,
   "id": "3dcd2e50",
   "metadata": {},
   "outputs": [
    {
     "data": {
      "text/html": [
       "<a href='batdatunit01a_report_0x1290c00806a200925448a000a0000063.pdf' target='_blank'>batdatunit01a_report_0x1290c00806a200925448a000a0000063.pdf</a><br>"
      ],
      "text/plain": [
       "/home/roman/repos/ust/AIRDOS04/sw/batdatunit01a_report_0x1290c00806a200925448a000a0000063.pdf"
      ]
     },
     "metadata": {},
     "output_type": "display_data"
    }
   ],
   "source": [
    "from reportlab.lib.pagesizes import letter, A4\n",
    "from reportlab.pdfgen import canvas\n",
    "from datetime import datetime\n",
    "from IPython.display import display, FileLink\n",
    "\n",
    "# Funkce pro vytvoření a zobrazení PDF reportu s logem a názvem firmy\n",
    "def create_and_display_pdf_report():\n",
    "    # Název zařízení\n",
    "    device_name = \"BATDATUNIT01B\"\n",
    "\n",
    "    # Čas a datum vytvoření\n",
    "    current_time = datetime.now().strftime(\"%Y-%m-%d %H:%M:%S\")\n",
    "\n",
    "\n",
    "    # Název firmy\n",
    "    company_name = \"Universal Scientific Technologies s.r.o.\"  # Nahraďte názvem vaší firmy\n",
    "    logo_path = \"Logo_UST.png\"\n",
    "\n",
    "    # Vytvoření PDF obsahu\n",
    "    filename = f\"batdatunit01a_report_0x{detector_serial_number:0x}.pdf\"\n",
    "    pdf = canvas.Canvas(filename, pagesize=A4)\n",
    "    pdf.setFont(\"Helvetica\", 12)\n",
    "\n",
    "    # Přidání loga a názvu firmy do hlavičky\n",
    "    pdf.drawImage(logo_path, 80, 720, width=100, preserveAspectRatio=1)\n",
    "    pdf.drawString(280, 765, company_name)\n",
    "    pdf.drawString(280, 750, \"www.ust.cz, support@ust.cz\")\n",
    "\n",
    "    pdf.drawString(80, 690, \"Test report for \" + device_name + f\"    SN: 0x{detector_serial_number:0x}\")\n",
    "    pdf.drawString(80, 675, \"Generated on \" + current_time)\n",
    "    \n",
    "    pdf.drawString(80, 640, \"I2C Devices:\")\n",
    "    y = 620\n",
    "\n",
    "\n",
    "    #print(f\"(0x{addresses[an]:02x}) - {an}: {addresses[an] in devices}\" )\n",
    "    for idev in addresses:\n",
    "        addr = addresses[idev]\n",
    "        pdf.drawString(100, y, f\"{idev}\")\n",
    "        pdf.drawString(230, y, f\"0x{addr:02x}\")\n",
    "        pdf.drawString(280, y, \"Pass\" if (addr in devices) else \"Failed\" )\n",
    "        y -= 20\n",
    "\n",
    "    pdf.drawString(80, 370, \"Serial Numbers:\")\n",
    "    pdf.drawString(100, 350, f\"Detector Serial Number:\")\n",
    "    pdf.drawString(280, 350, f\"0x{detector_serial_number:0x}\")\n",
    "    pdf.drawString(100, 330, f\"SHT3x Serial Number:\")\n",
    "    pdf.drawString(230, 330, f\"0x{sht_serial_number:0x}\")\n",
    "    #pdf.drawString(70, 310,  \"Current Temperature: \" + current_temperature)\n",
    "\n",
    "    # Uložení PDF\n",
    "    pdf.save()\n",
    "\n",
    "    # Zobrazit PDF v Jupyter Notebooku\n",
    "    display(FileLink(filename))\n",
    "\n",
    "# Volání funkce pro vytvoření a zobrazení PDF reportu\n",
    "create_and_display_pdf_report()\n"
   ]
  },
  {
   "cell_type": "code",
   "execution_count": null,
   "id": "5c14ed86",
   "metadata": {},
   "outputs": [],
   "source": []
  },
  {
   "cell_type": "code",
   "execution_count": null,
   "id": "54f1f9f8",
   "metadata": {},
   "outputs": [],
   "source": []
  }
 ],
 "metadata": {
  "kernelspec": {
   "display_name": "Python 3 (ipykernel)",
   "language": "python",
   "name": "python3"
  },
  "language_info": {
   "codemirror_mode": {
    "name": "ipython",
    "version": 3
   },
   "file_extension": ".py",
   "mimetype": "text/x-python",
   "name": "python",
   "nbconvert_exporter": "python",
   "pygments_lexer": "ipython3",
   "version": "3.10.12"
  }
 },
 "nbformat": 4,
 "nbformat_minor": 5
}
