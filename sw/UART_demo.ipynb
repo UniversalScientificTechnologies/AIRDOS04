{
 "cells": [
  {
   "cell_type": "code",
   "execution_count": 192,
   "id": "acf89709",
   "metadata": {},
   "outputs": [],
   "source": [
    "import hid\n",
    "import time\n",
    "\n",
    "VID = 0x0403\n",
    "PID = 0x6030\n",
    "INTERFACE = 1"
   ]
  },
  {
   "cell_type": "code",
   "execution_count": 193,
   "id": "521ac9d9",
   "metadata": {},
   "outputs": [
    {
     "name": "stdout",
     "output_type": "stream",
     "text": [
      "Nalezeno zařízení: {'path': b'5-2.2:1.0', 'vendor_id': 1027, 'product_id': 24624, 'serial_number': '', 'release_number': 8704, 'manufacturer_string': 'FTDI', 'product_string': 'FT260', 'usage_page': 0, 'usage': 0, 'interface_number': 0}\n",
      "Nalezeno zařízení: {'path': b'5-2.2:1.1', 'vendor_id': 1027, 'product_id': 24624, 'serial_number': '', 'release_number': 8704, 'manufacturer_string': 'FTDI', 'product_string': 'FT260', 'usage_page': 0, 'usage': 0, 'interface_number': 1}\n",
      "Vybrane zarizeni <hid.device object at 0x7f96c43dfbc0>\n"
     ]
    }
   ],
   "source": [
    "# Tady se nalezne spravny HID zarizeni dle VID/PID a vybere se UART interface\n",
    "\n",
    "devices = hid.enumerate()\n",
    "\n",
    "for d in devices:\n",
    "    if d['vendor_id'] == VID and d['product_id'] == PID:\n",
    "        print(\"Nalezeno zařízení:\", d)\n",
    "\n",
    "        if d['interface_number'] == INTERFACE:\n",
    "            try:\n",
    "                device = hid.device()\n",
    "                device.open_path(d['path'])\n",
    "            finally:\n",
    "                print(\"Vybrane zarizeni\", device)\n",
    "                #device.close()"
   ]
  },
  {
   "cell_type": "code",
   "execution_count": 194,
   "id": "44d2d938",
   "metadata": {},
   "outputs": [
    {
     "name": "stdout",
     "output_type": "stream",
     "text": [
      "b'5-2.3.5:1.0'\n"
     ]
    }
   ],
   "source": [
    "print(d['path'])"
   ]
  },
  {
   "cell_type": "code",
   "execution_count": 188,
   "id": "7c107686",
   "metadata": {},
   "outputs": [],
   "source": [
    "# Otevrit HID zarizeni\n",
    "\n",
    "#device = hid.device()\n",
    "#device.open_path(d['path'])"
   ]
  },
  {
   "cell_type": "code",
   "execution_count": 190,
   "id": "a923190b",
   "metadata": {},
   "outputs": [],
   "source": [
    "# Tohle přeskočit :) \n",
    "\n",
    "device.close()"
   ]
  },
  {
   "cell_type": "code",
   "execution_count": 201,
   "id": "6e99e3d8",
   "metadata": {},
   "outputs": [
    {
     "name": "stdout",
     "output_type": "stream",
     "text": [
      "Device manufacturer: FTDI\n",
      "Product: FT260\n",
      "Serial Number: Љ\n"
     ]
    }
   ],
   "source": [
    "# Vypis zakladni parametry o zarizeni \n",
    "try:\n",
    "    print(f'Device manufacturer: {device.get_manufacturer_string()}')\n",
    "    print(f'Product: {device.get_product_string()}')\n",
    "    print(f'Serial Number: {device.get_serial_number_string()}')\n",
    "\n",
    "    device.set_nonblocking(1)\n",
    "\n",
    "except IOError as e:\n",
    "    print(\"Chyba při práci s HID zařízením:\", e)\n"
   ]
  },
  {
   "cell_type": "code",
   "execution_count": null,
   "id": "d925113d",
   "metadata": {},
   "outputs": [],
   "source": []
  },
  {
   "cell_type": "code",
   "execution_count": 163,
   "id": "f6830773",
   "metadata": {},
   "outputs": [
    {
     "ename": "ValueError",
     "evalue": "not open",
     "output_type": "error",
     "traceback": [
      "\u001b[0;31m---------------------------------------------------------------------------\u001b[0m",
      "\u001b[0;31mValueError\u001b[0m                                Traceback (most recent call last)",
      "\u001b[0;32m/tmp/ipykernel_22183/3565925445.py\u001b[0m in \u001b[0;36m<module>\u001b[0;34m\u001b[0m\n\u001b[1;32m      4\u001b[0m     \u001b[0;32mwhile\u001b[0m \u001b[0;32mTrue\u001b[0m\u001b[0;34m:\u001b[0m\u001b[0;34m\u001b[0m\u001b[0;34m\u001b[0m\u001b[0m\n\u001b[1;32m      5\u001b[0m         \u001b[0;31m# Čtení dat\u001b[0m\u001b[0;34m\u001b[0m\u001b[0;34m\u001b[0m\u001b[0m\n\u001b[0;32m----> 6\u001b[0;31m         \u001b[0mdata\u001b[0m \u001b[0;34m=\u001b[0m \u001b[0mdevice\u001b[0m\u001b[0;34m.\u001b[0m\u001b[0mread\u001b[0m\u001b[0;34m(\u001b[0m\u001b[0;36m64\u001b[0m\u001b[0;34m)\u001b[0m  \u001b[0;31m# Přečte až 64 bajtů dat\u001b[0m\u001b[0;34m\u001b[0m\u001b[0;34m\u001b[0m\u001b[0m\n\u001b[0m\u001b[1;32m      7\u001b[0m         \u001b[0;32mif\u001b[0m \u001b[0mdata\u001b[0m\u001b[0;34m:\u001b[0m\u001b[0;34m\u001b[0m\u001b[0;34m\u001b[0m\u001b[0m\n\u001b[1;32m      8\u001b[0m             \u001b[0mprint\u001b[0m\u001b[0;34m(\u001b[0m\u001b[0;34m\"Přijatá data:\"\u001b[0m\u001b[0;34m,\u001b[0m \u001b[0;34m[\u001b[0m\u001b[0mhex\u001b[0m\u001b[0;34m(\u001b[0m\u001b[0mx\u001b[0m\u001b[0;34m)\u001b[0m \u001b[0;32mfor\u001b[0m \u001b[0mx\u001b[0m \u001b[0;32min\u001b[0m \u001b[0mdata\u001b[0m\u001b[0;34m]\u001b[0m\u001b[0;34m,\u001b[0m \u001b[0mdata\u001b[0m\u001b[0;34m)\u001b[0m\u001b[0;34m\u001b[0m\u001b[0;34m\u001b[0m\u001b[0m\n",
      "\u001b[0;32mhid.pyx\u001b[0m in \u001b[0;36mhid.device.read\u001b[0;34m()\u001b[0m\n",
      "\u001b[0;31mValueError\u001b[0m: not open"
     ]
    }
   ],
   "source": [
    "# Smycka, ktera vycita RX buffer u FTDI\n",
    "\n",
    "try:\n",
    "    while True:\n",
    "        # Čtení dat\n",
    "        data = device.read(64)  # Přečte až 64 bajtů dat\n",
    "        if data:\n",
    "            print(\"Přijatá data:\", [hex(x) for x in data[2:2+data[1]]], data)\n",
    "            #device.write(data[2])\n",
    "\n",
    "        time.sleep(0.05)  # Krátká pauza pro snížení zatížení procesoru\n",
    "\n",
    "except IOError as e:\n",
    "    print(\"Chyba při práci s HID zařízením:\", e)\n",
    "#finally:\n",
    "#    # Uzavření zařízení\n",
    "#    #device.close()\n"
   ]
  },
  {
   "cell_type": "markdown",
   "id": "0ad67a8f",
   "metadata": {},
   "source": [
    "Tohle je funkcni blok, ktery posle obsah promenne 'zprava' po seriove lince. "
   ]
  },
  {
   "cell_type": "code",
   "execution_count": 168,
   "id": "b30958cc",
   "metadata": {},
   "outputs": [
    {
     "name": "stdout",
     "output_type": "stream",
     "text": [
      "24 b'\\xfe\\x18\\n\\r Ahoj Testovaci zprava'\n"
     ]
    },
    {
     "data": {
      "text/plain": [
       "26"
      ]
     },
     "execution_count": 168,
     "metadata": {},
     "output_type": "execute_result"
    }
   ],
   "source": [
    "# Poslat UART zpravu do arduina\n",
    "\n",
    "zprava = b'\\n\\r Ahoj Testovaci zprava'\n",
    "l = len(zprava)\n",
    "payload = bytes([0xFE, l]) + zprava\n",
    "print(l, payload)\n",
    "device.write(payload)"
   ]
  },
  {
   "cell_type": "code",
   "execution_count": null,
   "id": "503359b3",
   "metadata": {},
   "outputs": [],
   "source": [
    "device.read(100)"
   ]
  },
  {
   "cell_type": "code",
   "execution_count": 202,
   "id": "3ea800a8",
   "metadata": {},
   "outputs": [
    {
     "name": "stdout",
     "output_type": "stream",
     "text": [
      "Help on built-in function get_feature_report:\n",
      "\n",
      "get_feature_report(...) method of hid.device instance\n",
      "    Receive feature report.\n",
      "    \n",
      "    :param report_num:\n",
      "    :type report_num: int\n",
      "    :param max_length:\n",
      "    :type max_length: int\n",
      "    :return: Incoming feature report\n",
      "    :rtype: List[int]\n",
      "    :raises ValueError: If connection is not opened.\n",
      "    :raises IOError:\n",
      "\n"
     ]
    }
   ],
   "source": [
    "help(device.get_feature_report)"
   ]
  },
  {
   "cell_type": "code",
   "execution_count": 18,
   "id": "294ff2ec",
   "metadata": {},
   "outputs": [
    {
     "name": "stdout",
     "output_type": "stream",
     "text": [
      "25\n",
      "['0xa1', '0x3', '0x2', '0x0', '0x1', '0x1', '0x3', '0x0', '0x1', '0x3', '0x6', '0x1', '0x1', '0xc', '0x1', '0x0', '0x0', '0x0', '0x0', '0x0', '0xac', '0x0', '0xbc', '0x0', '0xcc']\n",
      "flow_ctrl: 2\n"
     ]
    }
   ],
   "source": [
    "d = device.get_feature_report(0xA1, 100)\n",
    "da = [hex(x) for x in d]\n",
    "print(len(d))\n",
    "print(da)\n",
    "\n",
    "print('flow_ctrl: {}'.format(d[2]))"
   ]
  },
  {
   "cell_type": "code",
   "execution_count": 15,
   "id": "ba741124",
   "metadata": {},
   "outputs": [
    {
     "name": "stdout",
     "output_type": "stream",
     "text": [
      "10\n",
      "['0xe0', '0x3', '0xd0', '0x6b', '0x0', '0x0', '0x8', '0x0', '0x0', '0x0']\n",
      "\n",
      "flow_ctrl: 3\n",
      "baud_rade: ['0xd0', '0x6b', '0x0', '0x0']\n",
      "data_bit: 8\n",
      "parity: 0\n",
      "stop_bit: 0\n"
     ]
    }
   ],
   "source": [
    "# Vypsani aktualniho nastaveni TF260 cipu\n",
    "\n",
    "d = device.get_feature_report(0xE0, 100)\n",
    "da = [hex(x) for x in d]\n",
    "print(len(d))\n",
    "print(da)\n",
    "print(\"\")\n",
    "print('flow_ctrl: {}'.format(d[1]))\n",
    "print('baud_rade: {}'.format([hex(x) for x in d[2:6]]))\n",
    "print('data_bit: {}'.format(d[6]))\n",
    "print('parity: {}'.format(d[7]))\n",
    "print('stop_bit: {}'.format(d[8]))"
   ]
  },
  {
   "cell_type": "code",
   "execution_count": 7,
   "id": "ebfb1a77",
   "metadata": {},
   "outputs": [
    {
     "data": {
      "text/plain": [
       "-1"
      ]
     },
     "execution_count": 7,
     "metadata": {},
     "output_type": "execute_result"
    }
   ],
   "source": [
    "device.send_feature_report([0xA1, 0x41, 0x3, 0x00, 0x4B, 0x00, 0x00, 0x08, 0x01, 0x01, 0x00])"
   ]
  },
  {
   "cell_type": "markdown",
   "id": "5bda50c5",
   "metadata": {},
   "source": [
    "# Nastavení baudrate"
   ]
  },
  {
   "cell_type": "code",
   "execution_count": null,
   "id": "7d5470ff",
   "metadata": {},
   "outputs": [],
   "source": [
    "# Timto se nastavi baudrate na 9600\n",
    "device.send_feature_report([0xA1, 0x42, 0x80, 0x25, 0x00, 0x00])"
   ]
  },
  {
   "cell_type": "code",
   "execution_count": 157,
   "id": "eb7f12dd",
   "metadata": {},
   "outputs": [
    {
     "name": "stdout",
     "output_type": "stream",
     "text": [
      "57600 b'\\x00\\xe1\\x00\\x00'\n",
      "payload: ['0xa1', '0x42', '0x0', '0xe1', '0x0', '0x0']\n"
     ]
    },
    {
     "data": {
      "text/plain": [
       "6"
      ]
     },
     "execution_count": 157,
     "metadata": {},
     "output_type": "execute_result"
    }
   ],
   "source": [
    "br = 57600\n",
    "brb = (br).to_bytes(4, byteorder=\"little\")\n",
    "print(br, brb)\n",
    "payload = [0xA1, 0x42] + list(brb)\n",
    "print(\"payload:\", [hex(i) for i in payload])\n",
    "device.send_feature_report(payload)"
   ]
  },
  {
   "cell_type": "markdown",
   "id": "3f13adf6",
   "metadata": {},
   "source": [
    "# Nastavení funkce LEDek"
   ]
  },
  {
   "cell_type": "code",
   "execution_count": 172,
   "id": "ab383e8e",
   "metadata": {},
   "outputs": [
    {
     "data": {
      "text/plain": [
       "3"
      ]
     },
     "execution_count": 172,
     "metadata": {},
     "output_type": "execute_result"
    }
   ],
   "source": [
    "# Vypnuti LEDEk (resp. prepnuti do RX/TX modu)\n",
    "\n",
    "device.send_feature_report([0xA1, 0x08, 0x04])  # Nastavit GPIOA do TX_LED\n",
    "device.send_feature_report([0xA1, 0x09, 0x05])  # Nastavit GPIOG do RX_LED"
   ]
  },
  {
   "cell_type": "markdown",
   "id": "82ee858d",
   "metadata": {},
   "source": [
    "# Ovládání DTR pinu, reset arduina"
   ]
  },
  {
   "cell_type": "code",
   "execution_count": 21,
   "id": "c3f4896f",
   "metadata": {},
   "outputs": [
    {
     "data": {
      "text/plain": [
       "5"
      ]
     },
     "execution_count": 21,
     "metadata": {},
     "output_type": "execute_result"
    }
   ],
   "source": [
    "device.send_feature_report([0xB0, 0x00, 0x00, 0b00100000, 0b00100000])\n",
    "time.sleep(0.1)\n",
    "device.send_feature_report([0xB0, 0x00, 0x00, 0b00000000, 0b00100000])\n",
    "#time.sleep(0.1)"
   ]
  },
  {
   "cell_type": "markdown",
   "id": "42e3ad39",
   "metadata": {},
   "source": [
    "# Vyčtení dat z UARTu\n",
    "\n",
    "tvořeno pro programátor, není asi plně funkční..."
   ]
  },
  {
   "cell_type": "code",
   "execution_count": 154,
   "id": "ef8ebc17",
   "metadata": {},
   "outputs": [],
   "source": [
    "def read(size=1):\n",
    "    data_total = []\n",
    "    for x in range(100):\n",
    "        data = device.read(100)\n",
    "        print(x, data)\n",
    "        if data:\n",
    "            if len(data):\n",
    "                print(f\"RECV [{size}]< \", [hex(x) for x in data])\n",
    "                print(f\"RECV [{size}]< \", [hex(x) for x in data[2:2+data[1]]])\n",
    "                data_total += data[2:2+data[1]]\n",
    "        if len(data_total) >= size:\n",
    "            print(\"Done\", len(data_total))\n",
    "            return data_total\n",
    "        time.sleep(0.05)\n",
    "    return []\n",
    "    "
   ]
  },
  {
   "cell_type": "code",
   "execution_count": 160,
   "id": "7ab33a3e",
   "metadata": {},
   "outputs": [
    {
     "name": "stdout",
     "output_type": "stream",
     "text": [
      "0 [240, 1, 48, 106, 13, 10]\n",
      "RECV [30]<  ['0xf0', '0x1', '0x30', '0x6a', '0xd', '0xa']\n",
      "RECV [30]<  ['0x30']\n",
      "1 [240, 1, 10, 106, 13, 10]\n",
      "RECV [30]<  ['0xf0', '0x1', '0xa', '0x6a', '0xd', '0xa']\n",
      "RECV [30]<  ['0xa']\n",
      "2 [240, 3, 111, 106, 13, 10]\n",
      "RECV [30]<  ['0xf0', '0x3', '0x6f', '0x6a', '0xd', '0xa']\n",
      "RECV [30]<  ['0x6f', '0x6a', '0xd']\n",
      "3 [240, 1, 10, 106, 13, 10]\n",
      "RECV [30]<  ['0xf0', '0x1', '0xa', '0x6a', '0xd', '0xa']\n",
      "RECV [30]<  ['0xa']\n",
      "4 [240, 1, 48, 106, 13, 10]\n",
      "RECV [30]<  ['0xf0', '0x1', '0x30', '0x6a', '0xd', '0xa']\n",
      "RECV [30]<  ['0x30']\n",
      "5 [240, 1, 13, 106, 13, 10]\n",
      "RECV [30]<  ['0xf0', '0x1', '0xd', '0x6a', '0xd', '0xa']\n",
      "RECV [30]<  ['0xd']\n",
      "6 [240, 1, 10, 106, 13, 10]\n",
      "RECV [30]<  ['0xf0', '0x1', '0xa', '0x6a', '0xd', '0xa']\n",
      "RECV [30]<  ['0xa']\n",
      "7 [240, 1, 65, 106, 13, 10]\n",
      "RECV [30]<  ['0xf0', '0x1', '0x41', '0x6a', '0xd', '0xa']\n",
      "RECV [30]<  ['0x41']\n",
      "8 [240, 1, 104, 106, 13, 10]\n",
      "RECV [30]<  ['0xf0', '0x1', '0x68', '0x6a', '0xd', '0xa']\n",
      "RECV [30]<  ['0x68']\n",
      "9 [240, 1, 111, 106, 13, 10]\n",
      "RECV [30]<  ['0xf0', '0x1', '0x6f', '0x6a', '0xd', '0xa']\n",
      "RECV [30]<  ['0x6f']\n",
      "10 [240, 3, 106, 13, 10, 10]\n",
      "RECV [30]<  ['0xf0', '0x3', '0x6a', '0xd', '0xa', '0xa']\n",
      "RECV [30]<  ['0x6a', '0xd', '0xa']\n",
      "11 [240, 1, 48, 13, 10, 10]\n",
      "RECV [30]<  ['0xf0', '0x1', '0x30', '0xd', '0xa', '0xa']\n",
      "RECV [30]<  ['0x30']\n",
      "12 [240, 1, 13, 13, 10, 10]\n",
      "RECV [30]<  ['0xf0', '0x1', '0xd', '0xd', '0xa', '0xa']\n",
      "RECV [30]<  ['0xd']\n",
      "13 [240, 1, 10, 13, 10, 10]\n",
      "RECV [30]<  ['0xf0', '0x1', '0xa', '0xd', '0xa', '0xa']\n",
      "RECV [30]<  ['0xa']\n",
      "14 [240, 1, 65, 13, 10, 10]\n",
      "RECV [30]<  ['0xf0', '0x1', '0x41', '0xd', '0xa', '0xa']\n",
      "RECV [30]<  ['0x41']\n",
      "15 [240, 1, 104, 13, 10, 10]\n",
      "RECV [30]<  ['0xf0', '0x1', '0x68', '0xd', '0xa', '0xa']\n",
      "RECV [30]<  ['0x68']\n",
      "16 [240, 1, 111, 13, 10, 10]\n",
      "RECV [30]<  ['0xf0', '0x1', '0x6f', '0xd', '0xa', '0xa']\n",
      "RECV [30]<  ['0x6f']\n",
      "17 [240, 3, 106, 13, 10, 10]\n",
      "RECV [30]<  ['0xf0', '0x3', '0x6a', '0xd', '0xa', '0xa']\n",
      "RECV [30]<  ['0x6a', '0xd', '0xa']\n",
      "18 [240, 1, 48, 13, 10, 10]\n",
      "RECV [30]<  ['0xf0', '0x1', '0x30', '0xd', '0xa', '0xa']\n",
      "RECV [30]<  ['0x30']\n",
      "19 [240, 1, 13, 13, 10, 10]\n",
      "RECV [30]<  ['0xf0', '0x1', '0xd', '0xd', '0xa', '0xa']\n",
      "RECV [30]<  ['0xd']\n",
      "20 [240, 1, 10, 13, 10, 10]\n",
      "RECV [30]<  ['0xf0', '0x1', '0xa', '0xd', '0xa', '0xa']\n",
      "RECV [30]<  ['0xa']\n",
      "21 [240, 1, 65, 13, 10, 10]\n",
      "RECV [30]<  ['0xf0', '0x1', '0x41', '0xd', '0xa', '0xa']\n",
      "RECV [30]<  ['0x41']\n",
      "22 [240, 1, 104, 13, 10, 10]\n",
      "RECV [30]<  ['0xf0', '0x1', '0x68', '0xd', '0xa', '0xa']\n",
      "RECV [30]<  ['0x68']\n",
      "23 [240, 4, 111, 106, 13, 10]\n",
      "RECV [30]<  ['0xf0', '0x4', '0x6f', '0x6a', '0xd', '0xa']\n",
      "RECV [30]<  ['0x6f', '0x6a', '0xd', '0xa']\n",
      "Done 33\n",
      "['0x30', '0xa', '0x6f', '0x6a', '0xd', '0xa', '0x30', '0xd', '0xa', '0x41', '0x68', '0x6f', '0x6a', '0xd', '0xa', '0x30', '0xd', '0xa', '0x41', '0x68', '0x6f', '0x6a', '0xd', '0xa', '0x30', '0xd', '0xa', '0x41', '0x68', '0x6f', '0x6a', '0xd', '0xa']\n"
     ]
    }
   ],
   "source": [
    "print([hex(a) for a in read(30)])"
   ]
  },
  {
   "cell_type": "markdown",
   "id": "140af195",
   "metadata": {},
   "source": [
    "# Write to UART \n",
    "tento blok funguje, pošle po UARTu string.\n",
    "\n",
    "Vstupní parametr mají být typu `bytes`, např: `b'aaa'`"
   ]
  },
  {
   "cell_type": "code",
   "execution_count": 181,
   "id": "c9eecebc",
   "metadata": {},
   "outputs": [],
   "source": [
    "def write(data):\n",
    "    #print(\"SEND> \", [hex(x) for x in data] )\n",
    "    data = bytes(data)\n",
    "    l = len(data)\n",
    "    payload = bytes([0xFE, l]) + data\n",
    "    print(l, payload)\n",
    "    device.write(payload)"
   ]
  },
  {
   "cell_type": "code",
   "execution_count": null,
   "id": "c8fc42b6",
   "metadata": {},
   "outputs": [],
   "source": []
  },
  {
   "cell_type": "code",
   "execution_count": null,
   "id": "31592976",
   "metadata": {},
   "outputs": [],
   "source": []
  },
  {
   "cell_type": "code",
   "execution_count": null,
   "id": "66d5626b",
   "metadata": {},
   "outputs": [],
   "source": []
  },
  {
   "cell_type": "code",
   "execution_count": null,
   "id": "bd358521",
   "metadata": {},
   "outputs": [],
   "source": []
  },
  {
   "cell_type": "code",
   "execution_count": 182,
   "id": "efc03b58",
   "metadata": {},
   "outputs": [
    {
     "name": "stdout",
     "output_type": "stream",
     "text": [
      "SEND>  ['0x30', '0x20']\n",
      "2 b'\\xfe\\x020 '\n",
      "0 [240, 1, 24, 254, 152, 158]\n",
      "RECV [10]<  ['0xf0', '0x1', '0x18', '0xfe', '0x98', '0x9e']\n",
      "RECV [10]<  ['0x18']\n",
      "1 [240, 2, 6, 254, 152, 158]\n",
      "RECV [10]<  ['0xf0', '0x2', '0x6', '0xfe', '0x98', '0x9e']\n",
      "RECV [10]<  ['0x6', '0xfe']\n",
      "2 [240, 1, 6, 254, 152, 158]\n",
      "RECV [10]<  ['0xf0', '0x1', '0x6', '0xfe', '0x98', '0x9e']\n",
      "RECV [10]<  ['0x6']\n",
      "3 [240, 1, 152, 254, 152, 158]\n",
      "RECV [10]<  ['0xf0', '0x1', '0x98', '0xfe', '0x98', '0x9e']\n",
      "RECV [10]<  ['0x98']\n",
      "4 [240, 1, 128, 254, 152, 158]\n",
      "RECV [10]<  ['0xf0', '0x1', '0x80', '0xfe', '0x98', '0x9e']\n",
      "RECV [10]<  ['0x80']\n",
      "5 [241, 5, 158, 254, 158, 152, 158, 128, 152, 152]\n",
      "RECV [10]<  ['0xf1', '0x5', '0x9e', '0xfe', '0x9e', '0x98', '0x9e', '0x80', '0x98', '0x98']\n",
      "RECV [10]<  ['0x9e', '0xfe', '0x9e', '0x98', '0x9e']\n",
      "Done 11\n"
     ]
    },
    {
     "data": {
      "text/plain": [
       "[24, 6, 254, 6, 152, 128, 158, 254, 158, 152, 158]"
      ]
     },
     "execution_count": 182,
     "metadata": {},
     "output_type": "execute_result"
    }
   ],
   "source": [
    "#reset arduino\n",
    "device.send_feature_report([0xB0, 0x00, 0x00, 0b00100000, 0b00100000])\n",
    "time.sleep(0.1)\n",
    "device.send_feature_report([0xB0, 0x00, 0x00, 0b00000000, 0b00100000])\n",
    "\n",
    "write(b'\\x30\\x20')\n",
    "time.sleep(0.25)\n",
    "read(10)"
   ]
  },
  {
   "cell_type": "code",
   "execution_count": null,
   "id": "c40a42f0",
   "metadata": {},
   "outputs": [],
   "source": []
  }
 ],
 "metadata": {
  "kernelspec": {
   "display_name": "Python 3 (ipykernel)",
   "language": "python",
   "name": "python3"
  },
  "language_info": {
   "codemirror_mode": {
    "name": "ipython",
    "version": 3
   },
   "file_extension": ".py",
   "mimetype": "text/x-python",
   "name": "python",
   "nbconvert_exporter": "python",
   "pygments_lexer": "ipython3",
   "version": "3.10.12"
  }
 },
 "nbformat": 4,
 "nbformat_minor": 5
}
