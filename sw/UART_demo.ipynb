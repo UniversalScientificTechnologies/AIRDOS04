{
 "cells": [
  {
   "cell_type": "code",
   "execution_count": 1,
   "id": "acf89709",
   "metadata": {},
   "outputs": [],
   "source": [
    "import hid\n",
    "import time\n",
    "\n",
    "VID = 0x0403\n",
    "PID = 0x6030\n",
    "INTERFACE = 1"
   ]
  },
  {
   "cell_type": "code",
   "execution_count": 2,
   "id": "521ac9d9",
   "metadata": {},
   "outputs": [
    {
     "name": "stdout",
     "output_type": "stream",
     "text": [
      "Nalezeno zařízení: {'path': b'5-2.2:1.0', 'vendor_id': 1027, 'product_id': 24624, 'serial_number': '', 'release_number': 8704, 'manufacturer_string': 'FTDI', 'product_string': 'FT260', 'usage_page': 0, 'usage': 0, 'interface_number': 0}\n",
      "Nalezeno zařízení: {'path': b'5-2.2:1.1', 'vendor_id': 1027, 'product_id': 24624, 'serial_number': '', 'release_number': 8704, 'manufacturer_string': 'FTDI', 'product_string': 'FT260', 'usage_page': 0, 'usage': 0, 'interface_number': 1}\n",
      "Vybrane zarizeni <hid.device object at 0x7ff8f0691640>\n"
     ]
    }
   ],
   "source": [
    "# Tady se nalezne spravny HID zarizeni dle VID/PID a vybere se UART interface\n",
    "\n",
    "devices = hid.enumerate()\n",
    "\n",
    "for d in devices:\n",
    "    if d['vendor_id'] == VID and d['product_id'] == PID:\n",
    "        print(\"Nalezeno zařízení:\", d)\n",
    "\n",
    "        if d['interface_number'] == INTERFACE:\n",
    "            try:\n",
    "                device = hid.device()\n",
    "                device.open_path(d['path'])\n",
    "            finally:\n",
    "                print(\"Vybrane zarizeni\", device)\n",
    "                #device.close()"
   ]
  },
  {
   "cell_type": "code",
   "execution_count": 3,
   "id": "44d2d938",
   "metadata": {},
   "outputs": [
    {
     "name": "stdout",
     "output_type": "stream",
     "text": [
      "b'5-2.2:1.1'\n"
     ]
    }
   ],
   "source": [
    "print(d['path'])"
   ]
  },
  {
   "cell_type": "code",
   "execution_count": null,
   "id": "7c107686",
   "metadata": {},
   "outputs": [],
   "source": [
    "# Otevrit HID zarizeni\n",
    "\n",
    "#device = hid.device()\n",
    "#device.open_path(d['path'])"
   ]
  },
  {
   "cell_type": "code",
   "execution_count": null,
   "id": "a923190b",
   "metadata": {},
   "outputs": [],
   "source": [
    "# Tohle přeskočit :) \n",
    "\n",
    "device.close()"
   ]
  },
  {
   "cell_type": "code",
   "execution_count": 4,
   "id": "6e99e3d8",
   "metadata": {},
   "outputs": [
    {
     "name": "stdout",
     "output_type": "stream",
     "text": [
      "Device manufacturer: FTDI\n",
      "Product: FT260\n",
      "Serial Number: Љ\n"
     ]
    }
   ],
   "source": [
    "# Vypis zakladni parametry o zarizeni \n",
    "try:\n",
    "    print(f'Device manufacturer: {device.get_manufacturer_string()}')\n",
    "    print(f'Product: {device.get_product_string()}')\n",
    "    print(f'Serial Number: {device.get_serial_number_string()}')\n",
    "\n",
    "    device.set_nonblocking(1)\n",
    "\n",
    "except IOError as e:\n",
    "    print(\"Chyba při práci s HID zařízením:\", e)\n"
   ]
  },
  {
   "cell_type": "code",
   "execution_count": null,
   "id": "d925113d",
   "metadata": {},
   "outputs": [],
   "source": []
  },
  {
   "cell_type": "code",
   "execution_count": 26,
   "id": "f6830773",
   "metadata": {},
   "outputs": [
    {
     "name": "stdout",
     "output_type": "stream",
     "text": [
      "LINE: #Cvak...\n",
      "LINE: #Cvak...\n",
      "LINE: #Cvak...\n",
      "LINE: #Cvak...\n",
      "LINE: #Cvak...\n",
      "LINE: #Cvak...\n",
      "LINE: #Cvak...\n",
      "LINE: #Cvak...\n",
      "LINE: #Cvak...\n",
      "LINE: #Cvak...\n"
     ]
    },
    {
     "ename": "KeyboardInterrupt",
     "evalue": "",
     "output_type": "error",
     "traceback": [
      "\u001b[0;31m---------------------------------------------------------------------------\u001b[0m",
      "\u001b[0;31mKeyboardInterrupt\u001b[0m                         Traceback (most recent call last)",
      "\u001b[0;32m/tmp/ipykernel_86570/1283960890.py\u001b[0m in \u001b[0;36m<module>\u001b[0;34m\u001b[0m\n\u001b[1;32m     16\u001b[0m             \u001b[0;31m#device.write(data[2])\u001b[0m\u001b[0;34m\u001b[0m\u001b[0;34m\u001b[0m\u001b[0m\n\u001b[1;32m     17\u001b[0m \u001b[0;34m\u001b[0m\u001b[0m\n\u001b[0;32m---> 18\u001b[0;31m         \u001b[0mtime\u001b[0m\u001b[0;34m.\u001b[0m\u001b[0msleep\u001b[0m\u001b[0;34m(\u001b[0m\u001b[0;36m0.05\u001b[0m\u001b[0;34m)\u001b[0m  \u001b[0;31m# Krátká pauza pro snížení zatížení procesoru\u001b[0m\u001b[0;34m\u001b[0m\u001b[0;34m\u001b[0m\u001b[0m\n\u001b[0m\u001b[1;32m     19\u001b[0m \u001b[0;34m\u001b[0m\u001b[0m\n\u001b[1;32m     20\u001b[0m \u001b[0;32mexcept\u001b[0m \u001b[0mIOError\u001b[0m \u001b[0;32mas\u001b[0m \u001b[0me\u001b[0m\u001b[0;34m:\u001b[0m\u001b[0;34m\u001b[0m\u001b[0;34m\u001b[0m\u001b[0m\n",
      "\u001b[0;31mKeyboardInterrupt\u001b[0m: "
     ]
    }
   ],
   "source": [
    "# Smycka, ktera vycita RX buffer u FTDI\n",
    "\n",
    "try:\n",
    "    line = \"\"\n",
    "    while True:\n",
    "        # Čtení dat\n",
    "        data = device.read(64)  # Přečte až 64 bajtů dat\n",
    "        if data:\n",
    "            for x in data[2:2+data[1]]:\n",
    "                if x == 10:\n",
    "                    print(\"LINE:\", line)\n",
    "                    line = \"\"\n",
    "                    continue\n",
    "                line += chr(x)\n",
    "            #device.write(data[2])\n",
    "\n",
    "        time.sleep(0.05)  # Krátká pauza pro snížení zatížení procesoru\n",
    "\n",
    "except IOError as e:\n",
    "    print(\"Chyba při práci s HID zařízením:\", e)\n",
    "#finally:\n",
    "#    # Uzavření zařízení\n",
    "#    #device.close()\n"
   ]
  },
  {
   "cell_type": "markdown",
   "id": "0ad67a8f",
   "metadata": {},
   "source": [
    "Tohle je funkcni blok, ktery posle obsah promenne 'zprava' po seriove lince. "
   ]
  },
  {
   "cell_type": "code",
   "execution_count": null,
   "id": "b30958cc",
   "metadata": {},
   "outputs": [],
   "source": [
    "# Poslat UART zpravu do arduina\n",
    "\n",
    "zprava = b'\\n\\r Ahoj Testovaci zprava'\n",
    "l = len(zprava)\n",
    "payload = bytes([0xFE, l]) + zprava\n",
    "print(l, payload)\n",
    "device.write(payload)"
   ]
  },
  {
   "cell_type": "code",
   "execution_count": null,
   "id": "503359b3",
   "metadata": {},
   "outputs": [],
   "source": [
    "device.read(100)"
   ]
  },
  {
   "cell_type": "code",
   "execution_count": null,
   "id": "3ea800a8",
   "metadata": {},
   "outputs": [],
   "source": [
    "help(device.get_feature_report)"
   ]
  },
  {
   "cell_type": "code",
   "execution_count": null,
   "id": "294ff2ec",
   "metadata": {},
   "outputs": [],
   "source": [
    "d = device.get_feature_report(0xA1, 100)\n",
    "da = [hex(x) for x in d]\n",
    "print(len(d))\n",
    "print(da)\n",
    "\n",
    "print('flow_ctrl: {}'.format(d[2]))"
   ]
  },
  {
   "cell_type": "code",
   "execution_count": 5,
   "id": "ba741124",
   "metadata": {},
   "outputs": [
    {
     "name": "stdout",
     "output_type": "stream",
     "text": [
      "10\n",
      "['0xe0', '0x3', '0x0', '0x4b', '0x0', '0x0', '0x8', '0x0', '0x0', '0x0']\n",
      "\n",
      "flow_ctrl: 3\n",
      "baud_rade: ['0x0', '0x4b', '0x0', '0x0']\n",
      "data_bit: 8\n",
      "parity: 0\n",
      "stop_bit: 0\n"
     ]
    }
   ],
   "source": [
    "# Vypsani aktualniho nastaveni TF260 cipu\n",
    "\n",
    "d = device.get_feature_report(0xE0, 100)\n",
    "da = [hex(x) for x in d]\n",
    "print(len(d))\n",
    "print(da)\n",
    "print(\"\")\n",
    "print('flow_ctrl: {}'.format(d[1]))\n",
    "print('baud_rade: {}'.format([hex(x) for x in d[2:6]]))\n",
    "print('data_bit: {}'.format(d[6]))\n",
    "print('parity: {}'.format(d[7]))\n",
    "print('stop_bit: {}'.format(d[8]))"
   ]
  },
  {
   "cell_type": "code",
   "execution_count": null,
   "id": "ebfb1a77",
   "metadata": {},
   "outputs": [],
   "source": [
    "device.send_feature_report([0xA1, 0x41, 0x3, 0x00, 0x4B, 0x00, 0x00, 0x08, 0x01, 0x01, 0x00])"
   ]
  },
  {
   "cell_type": "markdown",
   "id": "c9660dde",
   "metadata": {},
   "source": [
    "# Nastavení baudrate"
   ]
  },
  {
   "cell_type": "code",
   "execution_count": null,
   "id": "7d5470ff",
   "metadata": {},
   "outputs": [],
   "source": [
    "# Timto se nastavi baudrate na 9600\n",
    "device.send_feature_report([0xA1, 0x42, 0x80, 0x25, 0x00, 0x00])"
   ]
  },
  {
   "cell_type": "code",
   "execution_count": 6,
   "id": "eb7f12dd",
   "metadata": {},
   "outputs": [
    {
     "name": "stdout",
     "output_type": "stream",
     "text": [
      "115200 b'\\x00\\xc2\\x01\\x00'\n",
      "payload: ['0xa1', '0x42', '0x0', '0xc2', '0x1', '0x0']\n"
     ]
    },
    {
     "data": {
      "text/plain": [
       "6"
      ]
     },
     "execution_count": 6,
     "metadata": {},
     "output_type": "execute_result"
    }
   ],
   "source": [
    "br = 57600\n",
    "br = 115200\n",
    "brb = (br).to_bytes(4, byteorder=\"little\")\n",
    "print(br, brb)\n",
    "payload = [0xA1, 0x42] + list(brb)\n",
    "print(\"payload:\", [hex(i) for i in payload])\n",
    "device.send_feature_report(payload)"
   ]
  },
  {
   "cell_type": "markdown",
   "id": "6dee1d8d",
   "metadata": {},
   "source": [
    "# Nastavení funkce LEDek"
   ]
  },
  {
   "cell_type": "code",
   "execution_count": 229,
   "id": "ab383e8e",
   "metadata": {},
   "outputs": [
    {
     "data": {
      "text/plain": [
       "3"
      ]
     },
     "execution_count": 229,
     "metadata": {},
     "output_type": "execute_result"
    }
   ],
   "source": [
    "# Vypnuti LEDEk (resp. prepnuti do RX/TX modu)\n",
    "\n",
    "device.send_feature_report([0xA1, 0x08, 0x04])  # Nastavit GPIOA do TX_LED\n",
    "device.send_feature_report([0xA1, 0x09, 0x05])  # Nastavit GPIOG do RX_LED"
   ]
  },
  {
   "cell_type": "markdown",
   "id": "db02cf9b",
   "metadata": {},
   "source": [
    "# Ovládání DTR pinu, reset arduina"
   ]
  },
  {
   "cell_type": "code",
   "execution_count": null,
   "id": "c3f4896f",
   "metadata": {},
   "outputs": [],
   "source": [
    "device.send_feature_report([0xB0, 0x00, 0x00, 0b00100000, 0b00100000])\n",
    "time.sleep(0.1)\n",
    "device.send_feature_report([0xB0, 0x00, 0x00, 0b00000000, 0b00100000])\n",
    "#time.sleep(0.1)"
   ]
  },
  {
   "cell_type": "markdown",
   "id": "3980d618",
   "metadata": {},
   "source": [
    "# Vyčtení dat z UARTu\n",
    "\n",
    "tvořeno pro programátor, není asi plně funkční..."
   ]
  },
  {
   "cell_type": "code",
   "execution_count": null,
   "id": "ef8ebc17",
   "metadata": {},
   "outputs": [],
   "source": [
    "def read(size=1):\n",
    "    data_total = []\n",
    "    for x in range(100):\n",
    "        data = device.read(100)\n",
    "        print(x, data)\n",
    "        if data:\n",
    "            if len(data):\n",
    "                print(f\"RECV [{size}]< \", [hex(x) for x in data])\n",
    "                print(f\"RECV [{size}]< \", [hex(x) for x in data[2:2+data[1]]])\n",
    "                data_total += data[2:2+data[1]]\n",
    "        if len(data_total) >= size:\n",
    "            print(\"Done\", len(data_total))\n",
    "            return data_total\n",
    "        time.sleep(0.05)\n",
    "    return []\n",
    "    "
   ]
  },
  {
   "cell_type": "code",
   "execution_count": null,
   "id": "7ab33a3e",
   "metadata": {},
   "outputs": [],
   "source": [
    "print([hex(a) for a in read(30)])"
   ]
  },
  {
   "cell_type": "markdown",
   "id": "333fe809",
   "metadata": {},
   "source": [
    "# Write to UART \n",
    "tento blok funguje, pošle po UARTu string.\n",
    "\n",
    "Vstupní parametr mají být typu `bytes`, např: `b'aaa'`"
   ]
  },
  {
   "cell_type": "code",
   "execution_count": null,
   "id": "c9eecebc",
   "metadata": {},
   "outputs": [],
   "source": [
    "def write(data):\n",
    "    #print(\"SEND> \", [hex(x) for x in data] )\n",
    "    data = bytes(data)\n",
    "    l = len(data)\n",
    "    payload = bytes([0xFE, l]) + data\n",
    "    print(l, payload)\n",
    "    device.write(payload)"
   ]
  },
  {
   "cell_type": "code",
   "execution_count": null,
   "id": "85bf5ed5",
   "metadata": {},
   "outputs": [],
   "source": []
  },
  {
   "cell_type": "code",
   "execution_count": null,
   "id": "7a15143b",
   "metadata": {},
   "outputs": [],
   "source": []
  },
  {
   "cell_type": "code",
   "execution_count": null,
   "id": "bc750d68",
   "metadata": {},
   "outputs": [],
   "source": []
  },
  {
   "cell_type": "code",
   "execution_count": null,
   "id": "5910f6ab",
   "metadata": {},
   "outputs": [],
   "source": []
  },
  {
   "cell_type": "code",
   "execution_count": null,
   "id": "bac5eea6",
   "metadata": {},
   "outputs": [],
   "source": [
    "#reset arduino\n",
    "device.send_feature_report([0xB0, 0x00, 0x00, 0b00100000, 0b00100000])\n",
    "time.sleep(0.1)\n",
    "device.send_feature_report([0xB0, 0x00, 0x00, 0b00000000, 0b00100000])\n",
    "\n",
    "write(b'\\x30\\x20')\n",
    "time.sleep(0.25)\n",
    "read(10)"
   ]
  },
  {
   "cell_type": "code",
   "execution_count": 203,
   "id": "bcfd0fdf",
   "metadata": {},
   "outputs": [],
   "source": [
    "s = \"#Cvak.../n/r\""
   ]
  },
  {
   "cell_type": "code",
   "execution_count": 206,
   "id": "06eb6b26",
   "metadata": {},
   "outputs": [
    {
     "data": {
      "text/plain": [
       "[35, 67, 118, 97, 107, 46, 46, 46, 47, 110, 47, 114]"
      ]
     },
     "execution_count": 206,
     "metadata": {},
     "output_type": "execute_result"
    }
   ],
   "source": [
    "[int(x) for x in s.encode('utf-8')]"
   ]
  },
  {
   "cell_type": "code",
   "execution_count": 220,
   "id": "7f2e44b7",
   "metadata": {},
   "outputs": [
    {
     "data": {
      "text/plain": [
       "b'\\xf1\\x07ak...\\r\\n\\n'"
      ]
     },
     "execution_count": 220,
     "metadata": {},
     "output_type": "execute_result"
    }
   ],
   "source": [
    "bytes([241, 7, 97, 107, 46, 46, 46, 13, 10, 10])"
   ]
  },
  {
   "cell_type": "code",
   "execution_count": null,
   "id": "ff3cedd9",
   "metadata": {},
   "outputs": [],
   "source": []
  },
  {
   "cell_type": "code",
   "execution_count": null,
   "id": "79d8d2a8",
   "metadata": {},
   "outputs": [],
   "source": []
  }
 ],
 "metadata": {
  "kernelspec": {
   "display_name": "Python 3 (ipykernel)",
   "language": "python",
   "name": "python3"
  },
  "language_info": {
   "codemirror_mode": {
    "name": "ipython",
    "version": 3
   },
   "file_extension": ".py",
   "mimetype": "text/x-python",
   "name": "python",
   "nbconvert_exporter": "python",
   "pygments_lexer": "ipython3",
   "version": "3.10.12"
  }
 },
 "nbformat": 4,
 "nbformat_minor": 5
}
