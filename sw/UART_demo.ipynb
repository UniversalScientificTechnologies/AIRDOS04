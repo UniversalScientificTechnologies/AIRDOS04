{
 "cells": [
  {
   "cell_type": "code",
   "execution_count": null,
   "id": "acf89709",
   "metadata": {},
   "outputs": [],
   "source": [
    "import hid\n",
    "import time\n",
    "\n",
    "VID = 0x0403\n",
    "PID = 0x6030\n",
    "INTERFACE = 1"
   ]
  },
  {
   "cell_type": "code",
   "execution_count": null,
   "id": "521ac9d9",
   "metadata": {},
   "outputs": [],
   "source": [
    "# Tady se nalezne spravny HID zarizeni dle VID/PID a vybere se UART interface\n",
    "\n",
    "devices = hid.enumerate()\n",
    "\n",
    "for d in devices:\n",
    "    if d['vendor_id'] == VID and d['product_id'] == PID:\n",
    "        print(\"Nalezeno zařízení:\", d)\n",
    "\n",
    "        if d['interface_number'] == INTERFACE:\n",
    "            try:\n",
    "                device = hid.device()\n",
    "                device.open_path(d['path'])\n",
    "            finally:\n",
    "                print(\"Vybrane zarizeni\", device)\n",
    "                #device.close()"
   ]
  },
  {
   "cell_type": "code",
   "execution_count": null,
   "id": "44d2d938",
   "metadata": {},
   "outputs": [],
   "source": [
    "print(d['path'])"
   ]
  },
  {
   "cell_type": "code",
   "execution_count": null,
   "id": "7c107686",
   "metadata": {},
   "outputs": [],
   "source": [
    "# Otevrit HID zarizeni\n",
    "\n",
    "#device = hid.device()\n",
    "#device.open_path(d['path'])"
   ]
  },
  {
   "cell_type": "code",
   "execution_count": null,
   "id": "a923190b",
   "metadata": {},
   "outputs": [],
   "source": [
    "# Tohle přeskočit :) \n",
    "\n",
    "device.close()"
   ]
  },
  {
   "cell_type": "code",
   "execution_count": null,
   "id": "6e99e3d8",
   "metadata": {},
   "outputs": [],
   "source": [
    "# Vypis zakladni parametry o zarizeni \n",
    "try:\n",
    "    print(f'Device manufacturer: {device.get_manufacturer_string()}')\n",
    "    print(f'Product: {device.get_product_string()}')\n",
    "    print(f'Serial Number: {device.get_serial_number_string()}')\n",
    "\n",
    "    device.set_nonblocking(1)\n",
    "\n",
    "except IOError as e:\n",
    "    print(\"Chyba při práci s HID zařízením:\", e)\n"
   ]
  },
  {
   "cell_type": "code",
   "execution_count": null,
   "id": "d925113d",
   "metadata": {},
   "outputs": [],
   "source": []
  },
  {
   "cell_type": "code",
   "execution_count": null,
   "id": "f6830773",
   "metadata": {},
   "outputs": [],
   "source": [
    "# Smycka, ktera vycita RX buffer u FTDI\n",
    "\n",
    "try:\n",
    "    while True:\n",
    "        # Čtení dat\n",
    "        data = device.read(64)  # Přečte až 64 bajtů dat\n",
    "        if data:\n",
    "            print(\"Přijatá data:\", [hex(x) for x in data[2:2+data[1]]], data)\n",
    "            #device.write(data[2])\n",
    "\n",
    "        time.sleep(0.05)  # Krátká pauza pro snížení zatížení procesoru\n",
    "\n",
    "except IOError as e:\n",
    "    print(\"Chyba při práci s HID zařízením:\", e)\n",
    "#finally:\n",
    "#    # Uzavření zařízení\n",
    "#    #device.close()\n"
   ]
  },
  {
   "cell_type": "markdown",
   "id": "0ad67a8f",
   "metadata": {},
   "source": [
    "Tohle je funkcni blok, ktery posle obsah promenne 'zprava' po seriove lince. "
   ]
  },
  {
   "cell_type": "code",
   "execution_count": null,
   "id": "b30958cc",
   "metadata": {},
   "outputs": [],
   "source": [
    "# Poslat UART zpravu do arduina\n",
    "\n",
    "zprava = b'\\n\\r Ahoj Testovaci zprava'\n",
    "l = len(zprava)\n",
    "payload = bytes([0xFE, l]) + zprava\n",
    "print(l, payload)\n",
    "device.write(payload)"
   ]
  },
  {
   "cell_type": "code",
   "execution_count": null,
   "id": "503359b3",
   "metadata": {},
   "outputs": [],
   "source": [
    "device.read(100)"
   ]
  },
  {
   "cell_type": "code",
   "execution_count": null,
   "id": "3ea800a8",
   "metadata": {},
   "outputs": [],
   "source": [
    "help(device.get_feature_report)"
   ]
  },
  {
   "cell_type": "code",
   "execution_count": null,
   "id": "294ff2ec",
   "metadata": {},
   "outputs": [],
   "source": [
    "d = device.get_feature_report(0xA1, 100)\n",
    "da = [hex(x) for x in d]\n",
    "print(len(d))\n",
    "print(da)\n",
    "\n",
    "print('flow_ctrl: {}'.format(d[2]))"
   ]
  },
  {
   "cell_type": "code",
   "execution_count": null,
   "id": "ba741124",
   "metadata": {},
   "outputs": [],
   "source": [
    "# Vypsani aktualniho nastaveni TF260 cipu\n",
    "\n",
    "d = device.get_feature_report(0xE0, 100)\n",
    "da = [hex(x) for x in d]\n",
    "print(len(d))\n",
    "print(da)\n",
    "print(\"\")\n",
    "print('flow_ctrl: {}'.format(d[1]))\n",
    "print('baud_rade: {}'.format([hex(x) for x in d[2:6]]))\n",
    "print('data_bit: {}'.format(d[6]))\n",
    "print('parity: {}'.format(d[7]))\n",
    "print('stop_bit: {}'.format(d[8]))"
   ]
  },
  {
   "cell_type": "code",
   "execution_count": null,
   "id": "ebfb1a77",
   "metadata": {},
   "outputs": [],
   "source": [
    "device.send_feature_report([0xA1, 0x41, 0x3, 0x00, 0x4B, 0x00, 0x00, 0x08, 0x01, 0x01, 0x00])"
   ]
  },
  {
   "cell_type": "markdown",
   "id": "5afaa094",
   "metadata": {},
   "source": [
    "# Nastavení baudrate"
   ]
  },
  {
   "cell_type": "code",
   "execution_count": null,
   "id": "7d5470ff",
   "metadata": {},
   "outputs": [],
   "source": [
    "# Timto se nastavi baudrate na 9600\n",
    "device.send_feature_report([0xA1, 0x42, 0x80, 0x25, 0x00, 0x00])"
   ]
  },
  {
   "cell_type": "code",
   "execution_count": null,
   "id": "eb7f12dd",
   "metadata": {},
   "outputs": [],
   "source": [
    "br = 57600\n",
    "brb = (br).to_bytes(4, byteorder=\"little\")\n",
    "print(br, brb)\n",
    "payload = [0xA1, 0x42] + list(brb)\n",
    "print(\"payload:\", [hex(i) for i in payload])\n",
    "device.send_feature_report(payload)"
   ]
  },
  {
   "cell_type": "markdown",
   "id": "2c1713ed",
   "metadata": {},
   "source": [
    "# Nastavení funkce LEDek"
   ]
  },
  {
   "cell_type": "code",
   "execution_count": null,
   "id": "ab383e8e",
   "metadata": {},
   "outputs": [],
   "source": [
    "# Vypnuti LEDEk (resp. prepnuti do RX/TX modu)\n",
    "\n",
    "device.send_feature_report([0xA1, 0x08, 0x04])  # Nastavit GPIOA do TX_LED\n",
    "device.send_feature_report([0xA1, 0x09, 0x05])  # Nastavit GPIOG do RX_LED"
   ]
  },
  {
   "cell_type": "markdown",
   "id": "4278b4b0",
   "metadata": {},
   "source": [
    "# Ovládání DTR pinu, reset arduina"
   ]
  },
  {
   "cell_type": "code",
   "execution_count": null,
   "id": "c3f4896f",
   "metadata": {},
   "outputs": [],
   "source": [
    "device.send_feature_report([0xB0, 0x00, 0x00, 0b00100000, 0b00100000])\n",
    "time.sleep(0.1)\n",
    "device.send_feature_report([0xB0, 0x00, 0x00, 0b00000000, 0b00100000])\n",
    "#time.sleep(0.1)"
   ]
  },
  {
   "cell_type": "markdown",
   "id": "4cc4e158",
   "metadata": {},
   "source": [
    "# Vyčtení dat z UARTu\n",
    "\n",
    "tvořeno pro programátor, není asi plně funkční..."
   ]
  },
  {
   "cell_type": "code",
   "execution_count": null,
   "id": "ef8ebc17",
   "metadata": {},
   "outputs": [],
   "source": [
    "def read(size=1):\n",
    "    data_total = []\n",
    "    for x in range(100):\n",
    "        data = device.read(100)\n",
    "        print(x, data)\n",
    "        if data:\n",
    "            if len(data):\n",
    "                print(f\"RECV [{size}]< \", [hex(x) for x in data])\n",
    "                print(f\"RECV [{size}]< \", [hex(x) for x in data[2:2+data[1]]])\n",
    "                data_total += data[2:2+data[1]]\n",
    "        if len(data_total) >= size:\n",
    "            print(\"Done\", len(data_total))\n",
    "            return data_total\n",
    "        time.sleep(0.05)\n",
    "    return []\n",
    "    "
   ]
  },
  {
   "cell_type": "code",
   "execution_count": null,
   "id": "7ab33a3e",
   "metadata": {},
   "outputs": [],
   "source": [
    "print([hex(a) for a in read(30)])"
   ]
  },
  {
   "cell_type": "markdown",
   "id": "4c82fdfc",
   "metadata": {},
   "source": [
    "# Write to UART \n",
    "tento blok funguje, pošle po UARTu string.\n",
    "\n",
    "Vstupní parametr mají být typu `bytes`, např: `b'aaa'`"
   ]
  },
  {
   "cell_type": "code",
   "execution_count": null,
   "id": "c9eecebc",
   "metadata": {},
   "outputs": [],
   "source": [
    "def write(data):\n",
    "    #print(\"SEND> \", [hex(x) for x in data] )\n",
    "    data = bytes(data)\n",
    "    l = len(data)\n",
    "    payload = bytes([0xFE, l]) + data\n",
    "    print(l, payload)\n",
    "    device.write(payload)"
   ]
  },
  {
   "cell_type": "code",
   "execution_count": null,
   "id": "b3fff079",
   "metadata": {},
   "outputs": [],
   "source": []
  },
  {
   "cell_type": "code",
   "execution_count": null,
   "id": "873f5b20",
   "metadata": {},
   "outputs": [],
   "source": []
  },
  {
   "cell_type": "code",
   "execution_count": null,
   "id": "cd0f9898",
   "metadata": {},
   "outputs": [],
   "source": []
  },
  {
   "cell_type": "code",
   "execution_count": null,
   "id": "dffd2a80",
   "metadata": {},
   "outputs": [],
   "source": []
  },
  {
   "cell_type": "code",
   "execution_count": null,
   "id": "13cee330",
   "metadata": {},
   "outputs": [],
   "source": [
    "#reset arduino\n",
    "device.send_feature_report([0xB0, 0x00, 0x00, 0b00100000, 0b00100000])\n",
    "time.sleep(0.1)\n",
    "device.send_feature_report([0xB0, 0x00, 0x00, 0b00000000, 0b00100000])\n",
    "\n",
    "write(b'\\x30\\x20')\n",
    "time.sleep(0.25)\n",
    "read(10)"
   ]
  },
  {
   "cell_type": "code",
   "execution_count": null,
   "id": "a5f7576e",
   "metadata": {},
   "outputs": [],
   "source": []
  }
 ],
 "metadata": {
  "kernelspec": {
   "display_name": "Python 3 (ipykernel)",
   "language": "python",
   "name": "python3"
  },
  "language_info": {
   "codemirror_mode": {
    "name": "ipython",
    "version": 3
   },
   "file_extension": ".py",
   "mimetype": "text/x-python",
   "name": "python",
   "nbconvert_exporter": "python",
   "pygments_lexer": "ipython3",
   "version": "3.10.12"
  }
 },
 "nbformat": 4,
 "nbformat_minor": 5
}
