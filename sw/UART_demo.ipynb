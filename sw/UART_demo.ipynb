{
 "cells": [
  {
   "cell_type": "code",
   "execution_count": 1,
   "id": "acf89709",
   "metadata": {},
   "outputs": [],
   "source": [
    "import hid\n",
    "import time\n",
    "\n",
    "# Konstanty pro VID a PID\n",
    "VID = 0x0403  # Nahraďte skutečným VID vašeho zařízení\n",
    "PID = 0x6030  # Nahraďte skutečným PID vašeho zařízení\n",
    "INTERFACE = 1"
   ]
  },
  {
   "cell_type": "code",
   "execution_count": 2,
   "id": "521ac9d9",
   "metadata": {},
   "outputs": [
    {
     "name": "stdout",
     "output_type": "stream",
     "text": [
      "Nalezeno zařízení: {'path': b'5-2.2:1.0', 'vendor_id': 1027, 'product_id': 24624, 'serial_number': '', 'release_number': 8704, 'manufacturer_string': 'FTDI', 'product_string': 'FT260', 'usage_page': 0, 'usage': 0, 'interface_number': 0}\n",
      "Nalezeno zařízení: {'path': b'5-2.2:1.1', 'vendor_id': 1027, 'product_id': 24624, 'serial_number': '', 'release_number': 8704, 'manufacturer_string': 'FTDI', 'product_string': 'FT260', 'usage_page': 0, 'usage': 0, 'interface_number': 1}\n",
      "Vybrane zarizeni <hid.device object at 0x7faed1103d80>\n"
     ]
    }
   ],
   "source": [
    "# Tady se nalezne spravny HID zarizeni dle VID/PID a vybere se UART interface\n",
    "\n",
    "devices = hid.enumerate()\n",
    "\n",
    "for d in devices:\n",
    "    if d['vendor_id'] == VID and d['product_id'] == PID:\n",
    "        print(\"Nalezeno zařízení:\", d)\n",
    "\n",
    "        if d['interface_number'] == INTERFACE:\n",
    "            try:\n",
    "                device = hid.device()\n",
    "                device.open_path(d['path'])\n",
    "            finally:\n",
    "                print(\"Vybrane zarizeni\", device)\n",
    "                device.close()"
   ]
  },
  {
   "cell_type": "code",
   "execution_count": 3,
   "id": "7c107686",
   "metadata": {},
   "outputs": [
    {
     "name": "stdout",
     "output_type": "stream",
     "text": [
      "{'path': b'5-2.2:1.1', 'vendor_id': 1027, 'product_id': 24624, 'serial_number': '', 'release_number': 8704, 'manufacturer_string': 'FTDI', 'product_string': 'FT260', 'usage_page': 0, 'usage': 0, 'interface_number': 1}\n"
     ]
    }
   ],
   "source": [
    "# Otevrit HID zarizeni\n",
    "\n",
    "device = hid.device()\n",
    "device.open_path(d['path'])"
   ]
  },
  {
   "cell_type": "code",
   "execution_count": 50,
   "id": "a923190b",
   "metadata": {},
   "outputs": [],
   "source": [
    "device.close()"
   ]
  },
  {
   "cell_type": "code",
   "execution_count": null,
   "id": "6e99e3d8",
   "metadata": {},
   "outputs": [],
   "source": [
    "# Vypis zakladni parametry o zarizeni \n",
    "try:\n",
    "    print(f'Device manufacturer: {device.get_manufacturer_string()}')\n",
    "    print(f'Product: {device.get_product_string()}')\n",
    "    print(f'Serial Number: {device.get_serial_number_string()}')\n",
    "\n",
    "    device.set_nonblocking(1)\n",
    "\n",
    "except IOError as e:\n",
    "    print(\"Chyba při práci s HID zařízením:\", e)\n"
   ]
  },
  {
   "cell_type": "code",
   "execution_count": null,
   "id": "f6830773",
   "metadata": {},
   "outputs": [],
   "source": [
    "# Smycka, ktera vycita RX buffer u FTDI\n",
    "\n",
    "try:\n",
    "    while True:\n",
    "        # Čtení dat\n",
    "        data = device.read(64)  # Přečte až 64 bajtů dat\n",
    "        if data:\n",
    "            print(\"Přijatá data:\", [hex(x) for x in data] )\n",
    "            device.write(data[2])\n",
    "\n",
    "        time.sleep(0.05)  # Krátká pauza pro snížení zatížení procesoru\n",
    "\n",
    "except IOError as e:\n",
    "    print(\"Chyba při práci s HID zařízením:\", e)\n",
    "#finally:\n",
    "#    # Uzavření zařízení\n",
    "#    #device.close()\n"
   ]
  },
  {
   "cell_type": "markdown",
   "id": "0ad67a8f",
   "metadata": {},
   "source": [
    "Tohle je funkcni blok, ktery posle obsah promenne 'zprava' po seriove lince. "
   ]
  },
  {
   "cell_type": "code",
   "execution_count": null,
   "id": "b30958cc",
   "metadata": {},
   "outputs": [],
   "source": [
    "# Poslat UART zpravu do arduina\n",
    "\n",
    "zprava = b'\\n\\r Ahoj Testovaci zprava'\n",
    "l = len(zprava)\n",
    "payload = bytes([0xFE, l]) + zprava\n",
    "print(l, payload)\n",
    "device.write(payload)"
   ]
  },
  {
   "cell_type": "code",
   "execution_count": null,
   "id": "503359b3",
   "metadata": {},
   "outputs": [],
   "source": [
    "device.read(100)"
   ]
  },
  {
   "cell_type": "code",
   "execution_count": 19,
   "id": "3ea800a8",
   "metadata": {},
   "outputs": [
    {
     "name": "stdout",
     "output_type": "stream",
     "text": [
      "Help on built-in function get_feature_report:\n",
      "\n",
      "get_feature_report(...) method of hid.device instance\n",
      "    Receive feature report.\n",
      "    \n",
      "    :param report_num:\n",
      "    :type report_num: int\n",
      "    :param max_length:\n",
      "    :type max_length: int\n",
      "    :return: Incoming feature report\n",
      "    :rtype: List[int]\n",
      "    :raises ValueError: If connection is not opened.\n",
      "    :raises IOError:\n",
      "\n"
     ]
    }
   ],
   "source": [
    "help(device.get_feature_report)"
   ]
  },
  {
   "cell_type": "code",
   "execution_count": 18,
   "id": "294ff2ec",
   "metadata": {},
   "outputs": [
    {
     "name": "stdout",
     "output_type": "stream",
     "text": [
      "25\n",
      "['0xa1', '0x3', '0x2', '0x0', '0x1', '0x1', '0x3', '0x0', '0x1', '0x3', '0x6', '0x1', '0x1', '0xc', '0x1', '0x0', '0x0', '0x0', '0x0', '0x0', '0xac', '0x0', '0xbc', '0x0', '0xcc']\n",
      "flow_ctrl: 2\n"
     ]
    }
   ],
   "source": [
    "d = device.get_feature_report(0xA1, 100)\n",
    "da = [hex(x) for x in d]\n",
    "print(len(d))\n",
    "print(da)\n",
    "\n",
    "print('flow_ctrl: {}'.format(d[2]))"
   ]
  },
  {
   "cell_type": "code",
   "execution_count": 5,
   "id": "ba741124",
   "metadata": {},
   "outputs": [
    {
     "name": "stdout",
     "output_type": "stream",
     "text": [
      "10\n",
      "['0xe0', '0x3', '0x80', '0x25', '0x0', '0x0', '0x8', '0x0', '0x0', '0x0']\n",
      "\n",
      "flow_ctrl: 3\n",
      "baud_rade: ['0x80', '0x25', '0x0', '0x0']\n",
      "data_bit: 8\n",
      "parity: 0\n",
      "stop_bit: 0\n"
     ]
    }
   ],
   "source": [
    "# Vypsani aktualniho nastaveni TF260 cipu\n",
    "\n",
    "d = device.get_feature_report(0xE0, 100)\n",
    "da = [hex(x) for x in d]\n",
    "print(len(d))\n",
    "print(da)\n",
    "print(\"\")\n",
    "print('flow_ctrl: {}'.format(d[1]))\n",
    "print('baud_rade: {}'.format([hex(x) for x in d[2:6]]))\n",
    "print('data_bit: {}'.format(d[6]))\n",
    "print('parity: {}'.format(d[7]))\n",
    "print('stop_bit: {}'.format(d[8]))"
   ]
  },
  {
   "cell_type": "code",
   "execution_count": 7,
   "id": "ebfb1a77",
   "metadata": {},
   "outputs": [
    {
     "data": {
      "text/plain": [
       "-1"
      ]
     },
     "execution_count": 7,
     "metadata": {},
     "output_type": "execute_result"
    }
   ],
   "source": [
    "device.send_feature_report([0xA1, 0x41, 0x3, 0x00, 0x4B, 0x00, 0x00, 0x08, 0x01, 0x01, 0x00])"
   ]
  },
  {
   "cell_type": "code",
   "execution_count": null,
   "id": "7d5470ff",
   "metadata": {},
   "outputs": [],
   "source": [
    "# Timto se nastavi baudrate na 9600\n",
    "\n",
    "device.send_feature_report([0xA1, 0x42, 0x80, 0x25, 0x00, 0x00])"
   ]
  },
  {
   "cell_type": "code",
   "execution_count": null,
   "id": "ab383e8e",
   "metadata": {},
   "outputs": [],
   "source": [
    "# Vypnuti LEDEk (resp. prepnuti do RX/TX modu)\n",
    "\n",
    "device.send_feature_report([0xA1, 0x08, 0x04])  # Nastavit GPIOA do TX_LED\n",
    "device.send_feature_report([0xA1, 0x09, 0x05])  # Nastavit GPIOG do RX_LED"
   ]
  },
  {
   "cell_type": "code",
   "execution_count": null,
   "id": "c3f4896f",
   "metadata": {},
   "outputs": [],
   "source": []
  }
 ],
 "metadata": {
  "kernelspec": {
   "display_name": "Python 3 (ipykernel)",
   "language": "python",
   "name": "python3"
  },
  "language_info": {
   "codemirror_mode": {
    "name": "ipython",
    "version": 3
   },
   "file_extension": ".py",
   "mimetype": "text/x-python",
   "name": "python",
   "nbconvert_exporter": "python",
   "pygments_lexer": "ipython3",
   "version": "3.10.12"
  }
 },
 "nbformat": 4,
 "nbformat_minor": 5
}
