{
 "cells": [
  {
   "cell_type": "code",
   "execution_count": 437,
   "id": "c46a1748",
   "metadata": {},
   "outputs": [],
   "source": [
    "VID = 0x0403\n",
    "PID = 0x6030\n",
    "I2C_INTERFACE = 0"
   ]
  },
  {
   "cell_type": "code",
   "execution_count": 6,
   "id": "443209fb",
   "metadata": {},
   "outputs": [
    {
     "name": "stdout",
     "output_type": "stream",
     "text": [
      "Kernel has device, detaching...\n"
     ]
    }
   ],
   "source": [
    "import libusb as usb\n",
    "\n",
    "usbd = usb.init(None)\n",
    "dev = usb.open_device_with_vid_pid(None, VID, PID)\n",
    "if usb.kernel_driver_active(dev, 0):\n",
    "    print(\"Kernel has device, detaching...\")\n",
    "    usb.detach_kernel_driver(dev, 0)\n",
    "usb.close(dev)\n"
   ]
  },
  {
   "cell_type": "code",
   "execution_count": 438,
   "id": "63f205b3",
   "metadata": {},
   "outputs": [],
   "source": [
    "import hid\n",
    "import time\n",
    "\n",
    "device = hid.device()\n",
    "device.open(VID, PID)"
   ]
  },
  {
   "cell_type": "code",
   "execution_count": 204,
   "id": "0347bee7",
   "metadata": {},
   "outputs": [
    {
     "name": "stdout",
     "output_type": "stream",
     "text": [
      "{'path': b'3-8:1.0', 'vendor_id': 1027, 'product_id': 24624, 'serial_number': '', 'release_number': 8704, 'manufacturer_string': 'FTDI', 'product_string': 'FT260', 'usage_page': 0, 'usage': 0, 'interface_number': 0}\n",
      "Nalezeno zařízení: {'path': b'3-8:1.0', 'vendor_id': 1027, 'product_id': 24624, 'serial_number': '', 'release_number': 8704, 'manufacturer_string': 'FTDI', 'product_string': 'FT260', 'usage_page': 0, 'usage': 0, 'interface_number': 0}\n",
      "b'3-8:1.0'\n",
      "Vybrane zarizeni <hid.device object at 0x7fcc87960880>\n",
      "{'path': b'3-8:1.1', 'vendor_id': 1027, 'product_id': 24624, 'serial_number': '', 'release_number': 8704, 'manufacturer_string': 'FTDI', 'product_string': 'FT260', 'usage_page': 0, 'usage': 0, 'interface_number': 1}\n",
      "Nalezeno zařízení: {'path': b'3-8:1.1', 'vendor_id': 1027, 'product_id': 24624, 'serial_number': '', 'release_number': 8704, 'manufacturer_string': 'FTDI', 'product_string': 'FT260', 'usage_page': 0, 'usage': 0, 'interface_number': 1}\n",
      "{'path': b'5-2.3.5:1.0', 'vendor_id': 16700, 'product_id': 45167, 'serial_number': '', 'release_number': 257, 'manufacturer_string': '', 'product_string': '', 'usage_page': 0, 'usage': 0, 'interface_number': 0}\n",
      "{'path': b'5-2.5:1.0', 'vendor_id': 16700, 'product_id': 45166, 'serial_number': '', 'release_number': 257, 'manufacturer_string': '', 'product_string': '', 'usage_page': 0, 'usage': 0, 'interface_number': 0}\n"
     ]
    }
   ],
   "source": [
    "devices = hid.enumerate()\n",
    "\n",
    "for d in devices:\n",
    "    print(d)\n",
    "    if d['vendor_id'] == VID and d['product_id'] == PID:\n",
    "        print(\"Nalezeno zařízení:\", d)\n",
    "\n",
    "        if d['interface_number'] == I2C_INTERFACE:\n",
    "            try:\n",
    "                print(d['path'])\n",
    "                device = hid.device()\n",
    "                device.open_path(d['path'])\n",
    "            finally:\n",
    "                print(\"Vybrane zarizeni\", device)\n",
    "                #device.close()"
   ]
  },
  {
   "cell_type": "code",
   "execution_count": 201,
   "id": "030d8a84",
   "metadata": {},
   "outputs": [],
   "source": [
    "device.close()"
   ]
  },
  {
   "cell_type": "code",
   "execution_count": 481,
   "id": "d8ea13e7",
   "metadata": {},
   "outputs": [
    {
     "name": "stdout",
     "output_type": "stream",
     "text": [
      "Device manufacturer: FTDI\n",
      "Product: FT260\n",
      "Serial Number: Љ\n",
      "STATUS ['0xc0', '0x20', '0x64', '0x0', '0x3b']\n",
      "{'busy_chip': 0, 'error': 0, 'no_ack': 0, 'arbitration_lost': 0, 'idle': 0, 'busy_bus': 1}\n",
      "25600\n",
      "51 23 0 1 1 2000\n"
     ]
    }
   ],
   "source": [
    "\n",
    "class FT260HidDriver():\n",
    "\n",
    "    \"\"\"\n",
    "    Key to symbols\n",
    "    ==============\n",
    "\n",
    "    S     (1 bit) : Start bit\n",
    "    P     (1 bit) : Stop bit\n",
    "    Rd/Wr (1 bit) : Read/Write bit. Rd equals 1, Wr equals 0.\n",
    "    A, NA (1 bit) : Accept and reverse accept bit.\n",
    "    Addr  (7 bits): I2C 7 bit address. Note that this can be expanded as usual to\n",
    "                    get a 10 bit I2C address.\n",
    "    Comm  (8 bits): Command byte, a data byte which often selects a register on\n",
    "                    the device.\n",
    "    Data  (8 bits): A plain data byte. Sometimes, I write DataLow, DataHigh\n",
    "                    for 16 bit data.\n",
    "    Count (8 bits): A data byte containing the length of a block operation.\n",
    "\n",
    "    [..]: Data sent by I2C device, as opposed to data sent by the host adapter.\n",
    "\n",
    "    More detail documentation is at https://www.kernel.org/doc/Documentation/i2c/smbus-protocol\n",
    "    \"\"\"\n",
    "\n",
    "    def __init__(self, port, device):\n",
    "        self.port = port\n",
    "        #self.smbus = smbus\n",
    "        self.driver_type = 'ft260_hid'\n",
    "        self.device = device\n",
    "        self.initialize_ftdi()\n",
    "    \n",
    "\n",
    "\n",
    "    def initialize_ftdi(self):\n",
    "        # TODO pripojeni k HID, nyni to mam jako self.device\n",
    "        \n",
    "        print(f'Device manufacturer: {self.device.get_manufacturer_string()}')\n",
    "        print(f'Product: {self.device.get_product_string()}')\n",
    "        print(f'Serial Number: {self.device.get_serial_number_string()}')\n",
    "\n",
    "        self.device.set_nonblocking(0)\n",
    "\n",
    "        self.reset_i2c()\n",
    "        #self.set_i2c_speed(100000) # 100 Khz\n",
    "        self.get_i2c_status()\n",
    "\n",
    "\n",
    "    def get_i2c_status(self):\n",
    "        d = self.device.get_feature_report(0xC0, 100)\n",
    "\n",
    "        status = ['busy_chip', 'error', 'no_ack', 'arbitration_lost', 'idle', 'busy_bus']\n",
    "        bits = [(d[1] & (1 << i)) >> i for i in range(8)]\n",
    "        status = dict(zip(status, bits))\n",
    "\n",
    "        baudrate = (d[2] | d[3]<<8)*1000\n",
    "        status['baudrate'] = baudrate\n",
    "\n",
    "        return status\n",
    "        \n",
    "    \n",
    "    def reset_i2c(self):\n",
    "        self.device.send_feature_report([0xA1, 0x20])\n",
    "        \n",
    "    def set_i2c_speed(self, speed = 100000):\n",
    "        speed = int(speed/1000)\n",
    "        LSB = (speed & 0xff)\n",
    "        MSB = (speed>>8 & 0xff)\n",
    "        print(f\"Nastavit speed na {speed} Hz: \", hex(LSB), hex(MSB))\n",
    "        self.device.send_feature_report([0xA1, 0x22, LSB, MSB])\n",
    "\n",
    "\n",
    "    def write_byte(self, address, value):\n",
    "        \"\"\"\n",
    "        SMBus Send Byte:  i2c_smbus_write_byte()\n",
    "        ========================================\n",
    "\n",
    "        This operation is the reverse of Receive Byte: it sends a single byte\n",
    "        to a device.  See Receive Byte for more information.\n",
    "\n",
    "        S Addr Wr [A] Data [A] P\n",
    "\n",
    "        Functionality flag: I2C_FUNC_SMBUS_WRITE_BYTE\n",
    "        \"\"\"\n",
    "\n",
    "        return None\n",
    "\n",
    "    def read_byte(self, address):\n",
    "        \"\"\"\n",
    "        SMBus Send Byte:  i2c_smbus_write_byte()\n",
    "        ========================================\n",
    "\n",
    "        This operation is the reverse of Receive Byte: it sends a single byte\n",
    "        to a device.  See Receive Byte for more information.\n",
    "\n",
    "        S Addr Wr [A] Data [A] P\n",
    "\n",
    "        Functionality flag: I2C_FUNC_SMBUS_WRITE_BYTE\n",
    "        \"\"\"\n",
    "        return None\n",
    "\n",
    "    def write_byte_data(self, address, register, value):\n",
    "        \"\"\"\n",
    "        SMBus Read Byte:  i2c_smbus_read_byte_data()\n",
    "        ============================================\n",
    "\n",
    "        This reads a single byte from a device, from a designated register.\n",
    "        The register is specified through the Comm byte.\n",
    "\n",
    "        S Addr Wr [A] Comm [A] S Addr Rd [A] [Data] NA P\n",
    "\n",
    "        Functionality flag: I2C_FUNC_SMBUS_READ_BYTE_DATA\n",
    "        \"\"\"\n",
    "\n",
    "        return None\n",
    "\n",
    "    def read_byte_data(self, address, register):\n",
    "        \"\"\"\n",
    "        SMBus Read Byte:  i2c_smbus_read_byte_data()\n",
    "        ============================================\n",
    "\n",
    "        This reads a single byte from a device, from a designated register.\n",
    "        The register is specified through the Comm byte.\n",
    "\n",
    "        S Addr Wr [A] Comm [A] S Addr Rd [A] [Data] NA P\n",
    "\n",
    "        Functionality flag: I2C_FUNC_SMBUS_READ_BYTE_DATA\n",
    "        \"\"\"\n",
    "\n",
    "\n",
    "        payload = [0xD0, address, 0x06, 0b01, register]\n",
    "        self.device.write(payload)\n",
    "        length = (1).to_bytes(2, byteorder='little')\n",
    "        self.device.write([0xC2, address, 0x06, length[0], length[1]])\n",
    "        d = self.device.read(0xde)\n",
    "\n",
    "        # TODO: Osetrit chyby v chybnem vycteni registru\n",
    "        return d[2]\n",
    "\n",
    "    def write_word_data(self, address, register, value):\n",
    "        \"\"\"\n",
    "        SMBus Write Word:  i2c_smbus_write_word_data()\n",
    "        ==============================================\n",
    "\n",
    "        This is the opposite of the Read Word operation. 16 bits\n",
    "        of data is written to a device, to the designated register that is\n",
    "        specified through the Comm byte.\n",
    "\n",
    "        S Addr Wr [A] Comm [A] DataLow [A] DataHigh [A] P\n",
    "\n",
    "        Functionality flag: I2C_FUNC_SMBUS_WRITE_WORD_DATA\n",
    "\n",
    "        Note the convenience function i2c_smbus_write_word_swapped is\n",
    "        available for writes where the two data bytes are the other way\n",
    "        around (not SMBus compliant, but very popular.)\n",
    "        \"\"\"\n",
    "        return None\n",
    "\n",
    "    def read_word_data(self, address, register):\n",
    "        \"\"\"\n",
    "        SMBus Read Word:  i2c_smbus_read_word_data()\n",
    "        ============================================\n",
    "\n",
    "        This operation is very like Read Byte; again, data is read from a\n",
    "        device, from a designated register that is specified through the Comm\n",
    "        byte. But this time, the data is a complete word (16 bits).\n",
    "\n",
    "        S Addr Wr [A] Comm [A] S Addr Rd [A] [DataLow] A [DataHigh] NA P\n",
    "\n",
    "        Functionality flag: I2C_FUNC_SMBUS_READ_WORD_DATA\n",
    "\n",
    "        Note the convenience function i2c_smbus_read_word_swapped is\n",
    "        available for reads where the two data bytes are the other way\n",
    "        around (not SMBus compliant, but very popular.)\n",
    "        \"\"\"\n",
    "\n",
    "        payload = [0xD0, address, 0x06, 0b01, register]\n",
    "        self.device.write(payload)\n",
    "        length = (2).to_bytes(2, byteorder='little')\n",
    "        self.device.write([0xC2, address, 0x06, length[0], length[1]])\n",
    "        d = self.device.read(0xde)\n",
    "\n",
    "        # TODO: Osetrit chyby v chybnem vycteni registru\n",
    "        return d[2]<<8 | d[3]\n",
    "\n",
    "    def write_block_data(self, address, register, value):\n",
    "        \"\"\"\n",
    "        SMBus Block Write:  i2c_smbus_write_block_data()\n",
    "        ================================================\n",
    "\n",
    "        The opposite of the Block Read command, this writes up to 32 bytes to\n",
    "        a device, to a designated register that is specified through the\n",
    "        Comm byte. The amount of data is specified in the Count byte.\n",
    "\n",
    "        S Addr Wr [A] Comm [A] Count [A] Data [A] Data [A] ... [A] Data [A] P\n",
    "\n",
    "        Functionality flag: I2C_FUNC_SMBUS_WRITE_BLOCK_DATA\n",
    "        \"\"\"\n",
    "        return None\n",
    "\n",
    "    def read_block_data(self, address, register):\n",
    "        \"\"\"\n",
    "        SMBus Block Read:  i2c_smbus_read_block_data()\n",
    "        ==============================================\n",
    "\n",
    "        This command reads a block of up to 32 bytes from a device, from a\n",
    "        designated register that is specified through the Comm byte. The amount\n",
    "        of data is specified by the device in the Count byte.\n",
    "\n",
    "        S Addr Wr [A] Comm [A]\n",
    "                   S Addr Rd [A] [Count] A [Data] A [Data] A ... A [Data] NA P\n",
    "\n",
    "        Functionality flag: I2C_FUNC_SMBUS_READ_BLOCK_DATA\n",
    "        \"\"\"\n",
    "        return None\n",
    "\n",
    "    def block_process_call(self, address, register, value):\n",
    "        \"\"\"\n",
    "        SMBus Block Write - Block Read Process Call\n",
    "        ===========================================\n",
    "\n",
    "        SMBus Block Write - Block Read Process Call was introduced in\n",
    "        Revision 2.0 of the specification.\n",
    "\n",
    "        This command selects a device register (through the Comm byte), sends\n",
    "        1 to 31 bytes of data to it, and reads 1 to 31 bytes of data in return.\n",
    "\n",
    "        S Addr Wr [A] Comm [A] Count [A] Data [A] ...\n",
    "                                     S Addr Rd [A] [Count] A [Data] ... A P\n",
    "\n",
    "        Functionality flag: I2C_FUNC_SMBUS_BLOCK_PROC_CALL\n",
    "        \"\"\"\n",
    "        return None\n",
    "\n",
    "    ### I2C transactions not compatible with pure SMBus driver\n",
    "    def write_i2c_block(self, address, value):\n",
    "        \"\"\"\n",
    "        Simple send transaction\n",
    "        ======================\n",
    "\n",
    "        This corresponds to i2c_master_send.\n",
    "\n",
    "          S Addr Wr [A] Data [A] Data [A] ... [A] Data [A] P\n",
    "\n",
    "        More detail documentation is at: https://www.kernel.org/doc/Documentation/i2c/i2c-protocol\n",
    "        \"\"\"\n",
    "        return None\n",
    "\n",
    "    def read_i2c_block(self, address, length):\n",
    "        \"\"\"\n",
    "        Simple receive transaction\n",
    "        ===========================\n",
    "\n",
    "        This corresponds to i2c_master_recv\n",
    "\n",
    "          S Addr Rd [A] [Data] A [Data] A ... A [Data] NA P\n",
    "\n",
    "        More detail documentation is at: https://www.kernel.org/doc/Documentation/i2c/i2c-protocol\n",
    "        \"\"\"\n",
    "        return None\n",
    "\n",
    "    def write_i2c_block_data(self, address, register, value):\n",
    "        \"\"\"\n",
    "        I2C block transactions do not limit the number of bytes transferred\n",
    "        but the SMBus layer places a limit of 32 bytes.\n",
    "\n",
    "        I2C Block Write:  i2c_smbus_write_i2c_block_data()\n",
    "        ==================================================\n",
    "\n",
    "        The opposite of the Block Read command, this writes bytes to\n",
    "        a device, to a designated register that is specified through the\n",
    "        Comm byte. Note that command lengths of 0, 2, or more bytes are\n",
    "        seupported as they are indistinguishable from data.\n",
    "\n",
    "        S Addr Wr [A] Comm [A] Data [A] Data [A] ... [A] Data [A] P\n",
    "\n",
    "        Functionality flag: I2C_FUNC_SMBUS_WRITE_I2C_BLOCK\n",
    "        \"\"\"\n",
    "        return None\n",
    "\n",
    "    def read_i2c_block_data(self, address, register, length):\n",
    "        \"\"\"\n",
    "        I2C block transactions do not limit the number of bytes transferred\n",
    "        but the SMBus layer places a limit of 32 bytes.\n",
    "\n",
    "        I2C Block Read:  i2c_smbus_read_i2c_block_data()\n",
    "        ================================================\n",
    "\n",
    "        This command reads a block of bytes from a device, from a\n",
    "        designated register that is specified through the Comm byte.\n",
    "\n",
    "        S Addr Wr [A] Comm [A]\n",
    "                   S Addr Rd [A] [Data] A [Data] A ... A [Data] NA P\n",
    "\n",
    "        Functionality flag: I2C_FUNC_SMBUS_READ_I2C_BLOCK\n",
    "        \"\"\"\n",
    "        return None\n",
    "\n",
    "\n",
    "c = FT260HidDriver(18, device)\n",
    "\n",
    "def set_time(time):\n",
    "    c.write_byte_data(addr_rtc, 0x01, (time.second % 10) | int(time.second/10)<<4 )\n",
    "    c.write_byte_data(addr_rtc, 0x02, (time.minute % 10) | int(time.minute/10)<<4 )\n",
    "    c.write_byte_data(addr_rtc, 0x03, (time.hour % 10) | int(time.hour/10)<<4 )\n",
    "    c.write_byte_data(addr_rtc, 0x04, (time.day % 10) | int(time.day/10)<<4 )\n",
    "    c.write_byte_data(addr_rtc, 0x06, (time.month % 10) | int(time.month/10)<<4 )\n",
    "    c.write_byte_data(addr_rtc, 0x07, ((time.year-2000) % 10) | int((time.year-2000)/10)<<4 )\n",
    "\n",
    "set_time(datetime.datetime.utcnow())\n",
    "\n",
    "addr_rtc = 0x51\n",
    "r01 = c.read_byte_data(addr_rtc, 0x01)\n",
    "r02 = c.read_byte_data(addr_rtc, 0x02)\n",
    "r03 = c.read_byte_data(addr_rtc, 0x03)\n",
    "r04 = c.read_byte_data(addr_rtc, 0x04)\n",
    "r06 = c.read_byte_data(addr_rtc, 0x06)\n",
    "r07 = c.read_byte_data(addr_rtc, 0x07)\n",
    "\n",
    "sec = ((r01 >> 4) & 0b111) * 10 + (r01 & 0b1111)\n",
    "minu= ((r02 >> 4) & 0b111) * 10 + (r02 & 0b1111)\n",
    "hour= ((r03 >> 4) & 0b11) * 10 + (r03 & 0b1111)\n",
    "day = ((r04 >> 4) & 0b11) * 10 + (r04 & 0b1111)\n",
    "mon = ((r06 >> 4) & 0b1) * 10 + (r06 & 0b1111)\n",
    "year= ((r07 >> 4) & 0b1111) * 10 + (r07 & 0b1111)+2000\n",
    "\n",
    "print(sec, minu, hour, day, mon, year)"
   ]
  },
  {
   "cell_type": "code",
   "execution_count": 457,
   "metadata": {},
   "outputs": [
    {
     "name": "stdout",
     "output_type": "stream",
     "text": [
      "Device manufacturer: FTDI\n",
      "Product: FT260\n",
      "Serial Number: Љ\n",
      "STATUS ['0xc0', '0x20', '0x64', '0x0', '0x3b']\n",
      "{'busy_chip': 0, 'error': 0, 'no_ack': 0, 'arbitration_lost': 0, 'idle': 0, 'busy_bus': 1}\n",
      "25600\n"
     ]
    }
   ],
   "source": [
    "\n"
   ]
  },
  {
   "cell_type": "code",
   "execution_count": 470,
   "metadata": {},
   "outputs": [
    {
     "name": "stdout",
     "output_type": "stream",
     "text": [
      " \n",
      "READ\n",
      "priajto ['0xd0', '0x1', '0x91', '0x1', '0x0', '0x0', '0x32', '0x0']\n",
      " \n",
      "READ\n",
      "priajto ['0xd0', '0x1', '0x23', '0x1', '0x0', '0x0', '0x32', '0x0']\n",
      " \n",
      "READ\n",
      "priajto ['0xd0', '0x1', '0x0', '0x1', '0x0', '0x0', '0x32', '0x0']\n",
      " \n",
      "READ\n",
      "priajto ['0xd0', '0x1', '0x1', '0x1', '0x0', '0x0', '0x32', '0x0']\n",
      " \n",
      "READ\n",
      "priajto ['0xd0', '0x1', '0x1', '0x1', '0x0', '0x0', '0x32', '0x0']\n",
      " \n",
      "READ\n",
      "priajto ['0xd0', '0x1', '0x0', '0x1', '0x0', '0x0', '0x32', '0x0']\n",
      "145 35 0 1 1 0\n",
      "11 23 0 1 1 2000\n"
     ]
    }
   ],
   "source": [
    "import datetime\n"
   ]
  },
  {
   "cell_type": "code",
   "execution_count": 90,
   "metadata": {},
   "outputs": [
    {
     "name": "stdout",
     "output_type": "stream",
     "text": [
      "0xe8\n",
      "0x3\n"
     ]
    }
   ],
   "source": [
    "speed = 1000\n",
    "print(hex(speed & 0xff))\n",
    "print(hex(speed>>8 & 0xff))"
   ]
  },
  {
   "cell_type": "code",
   "execution_count": 446,
   "metadata": {},
   "outputs": [],
   "source": [
    "def get_i2c_status():\n",
    "    d = device.get_feature_report(0xC0, 100)\n",
    "    #print([hex(x) for x in d])\n",
    "    \n",
    "    status = ['busy_chip', 'error', 'no_ack', 'arbitration_lost', 'idle', 'busy_bus']\n",
    "    bits = [(d[1] & (1 << i)) >> i for i in range(8)]\n",
    "    status = dict(zip(status, bits))\n",
    "    \n",
    "\n",
    "    baudrate = (d[2] | d[3]<<8)*1000\n",
    "    status['baudrate'] = baudrate\n",
    "\n",
    "    print(status)\n",
    "    return status "
   ]
  },
  {
   "cell_type": "code",
   "execution_count": 451,
   "metadata": {},
   "outputs": [
    {
     "name": "stdout",
     "output_type": "stream",
     "text": [
      "{'busy_chip': 0, 'error': 0, 'no_ack': 0, 'arbitration_lost': 0, 'idle': 0, 'busy_bus': 1, 'baudrate': 100000}\n",
      " \n",
      "READ BYTE DATA... ['0xd0', '0x51', '0x6', '0x1', '0x1', '0x0', '0x0', '0x0']\n",
      "{'busy_chip': 1, 'error': 0, 'no_ack': 0, 'arbitration_lost': 0, 'idle': 0, 'busy_bus': 0, 'baudrate': 100000}\n",
      "READ\n",
      "1 161\n",
      "priajto ['0xd0', '0x1', '0xa1', '0x1', '0x0', '0x0', '0x0', '0x0']\n"
     ]
    }
   ],
   "source": [
    "\n",
    "get_i2c_status()\n",
    "\n",
    "print(\" \")\n",
    "address = 0x51\n",
    "register = 0x01\n",
    "\n",
    "\n",
    "# address = 0x55\n",
    "# register = 0x10\n",
    "\n",
    "payload = [0xD0, address, 0x06, 0x01, register, 0x00, 0x00, 0x00]\n",
    "print(\"READ BYTE DATA...\", [hex(x) for x in payload])\n",
    "device.write(payload)\n",
    "\n",
    "get_i2c_status()\n",
    "time.sleep(1)\n",
    "\n",
    "length = 1\n",
    "length = (length).to_bytes(2, byteorder='little')\n",
    "time.sleep(0.1)\n",
    "device.write([0xC2, address, 0x06, length[0], length[1]])\n",
    "time.sleep(0.1)\n",
    "d = device.read(0xde)\n",
    "print(\"READ\")\n",
    "print(d[1], d[2])\n",
    "\n",
    "\n",
    "print(f\"priajto\", [hex(x) for x in d])"
   ]
  },
  {
   "cell_type": "code",
   "execution_count": 445,
   "metadata": {},
   "outputs": [
    {
     "name": "stdout",
     "output_type": "stream",
     "text": [
      "{'busy_chip': 0, 'error': 0, 'no_ack': 0, 'arbitration_lost': 0, 'idle': 0, 'busy_bus': 1, 'baudrate': 25600000}\n"
     ]
    },
    {
     "data": {
      "text/plain": [
       "{'busy_chip': 0,\n",
       " 'error': 0,\n",
       " 'no_ack': 0,\n",
       " 'arbitration_lost': 0,\n",
       " 'idle': 0,\n",
       " 'busy_bus': 1,\n",
       " 'baudrate': 25600000}"
      ]
     },
     "execution_count": 445,
     "metadata": {},
     "output_type": "execute_result"
    }
   ],
   "source": [
    "get_i2c_status()"
   ]
  },
  {
   "cell_type": "code",
   "execution_count": 449,
   "metadata": {},
   "outputs": [
    {
     "name": "stdout",
     "output_type": "stream",
     "text": [
      "Nastavit speed na 100 kHz:  0x64 0x0\n",
      "Payload ['0xa1', '0x22', '0x64', '0x0']\n"
     ]
    },
    {
     "data": {
      "text/plain": [
       "4"
      ]
     },
     "execution_count": 449,
     "metadata": {},
     "output_type": "execute_result"
    }
   ],
   "source": [
    "speed = 100000\n",
    "speed = int(speed/1000)\n",
    "LSB = (speed & 0xff)\n",
    "MSB = (speed>>8 & 0xff)\n",
    "print(f\"Nastavit speed na {speed} kHz: \", hex(LSB), hex(MSB))\n",
    "print(\"Payload\", [hex(x) for x in [0xA1, 0x22, LSB, MSB]])\n",
    "device.send_feature_report([0xA1, 0x22, LSB, MSB])"
   ]
  },
  {
   "cell_type": "code",
   "execution_count": 427,
   "metadata": {},
   "outputs": [
    {
     "data": {
      "text/plain": [
       "3"
      ]
     },
     "execution_count": 427,
     "metadata": {},
     "output_type": "execute_result"
    }
   ],
   "source": [
    "device.send_feature_report([0xA1, 0x20])\n",
    "device.send_feature_report([0xA1, 0x02, 0x01])"
   ]
  },
  {
   "cell_type": "code",
   "execution_count": null,
   "metadata": {},
   "outputs": [],
   "source": []
  }
 ],
 "metadata": {
  "kernelspec": {
   "display_name": "Python 3 (ipykernel)",
   "language": "python",
   "name": "python3"
  },
  "language_info": {
   "codemirror_mode": {
    "name": "ipython",
    "version": 3
   },
   "file_extension": ".py",
   "mimetype": "text/x-python",
   "name": "python",
   "nbconvert_exporter": "python",
   "pygments_lexer": "ipython3",
   "version": "3.10.12"
  }
 },
 "nbformat": 4,
 "nbformat_minor": 5
}
